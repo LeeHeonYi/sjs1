{
 "cells": [
  {
   "cell_type": "code",
   "execution_count": 1,
   "id": "41bdadb7",
   "metadata": {},
   "outputs": [],
   "source": [
    "#%cd ./final/"
   ]
  },
  {
   "cell_type": "code",
   "execution_count": 2,
   "id": "fba64c33",
   "metadata": {},
   "outputs": [
    {
     "name": "stdout",
     "output_type": "stream",
     "text": [
      "814346\r\n"
     ]
    }
   ],
   "source": [
    "!samtools view -b -o CLIP-chr5.bam -F 16 ../binfo1-datapack1/CLIP-35L33G.bam chr5\n",
    "!samtools view CLIP-chr5.bam | wc -l"
   ]
  },
  {
   "cell_type": "code",
   "execution_count": 4,
   "id": "981798d1",
   "metadata": {},
   "outputs": [],
   "source": [
    "!samtools view CLIP-chr5.bam > CLIP-chr5.txt\n",
    "#!head -20 CLIP-chr5.txt"
   ]
  },
  {
   "cell_type": "code",
   "execution_count": 5,
   "id": "9aef6a6c",
   "metadata": {},
   "outputs": [
    {
     "name": "stdout",
     "output_type": "stream",
     "text": [
      "[mpileup] 1 samples in 1 input files\n",
      "<mpileup> Set max per-file depth to 8000\n",
      "20466330 CLIP-chr3.pileup\n"
     ]
    }
   ],
   "source": [
    "!samtools mpileup CLIP-chr5.bam > CLIP-chr5.pileup\n",
    "!wc -l CLIP-chr3.pileup"
   ]
  },
  {
   "cell_type": "code",
   "execution_count": 1,
   "id": "3f59b07b",
   "metadata": {},
   "outputs": [],
   "source": [
    "import pandas as pd\n",
    "import numpy as np\n",
    "import re\n",
    "import collections\n",
    "import math"
   ]
  },
  {
   "cell_type": "code",
   "execution_count": 7,
   "id": "e753714e",
   "metadata": {},
   "outputs": [],
   "source": [
    "def estimate_shannon_entropy(sequence):\n",
    "    m = len(sequence)\n",
    "    bases = collections.Counter([tmp_base for tmp_base in sequence])\n",
    "    shannon_entropy_value = 0\n",
    "    for base in bases:\n",
    "        # number of residues\n",
    "        n_i = bases[base]\n",
    "        # n_i (# residues type i) / M (# residues in column)\n",
    "        p_i = n_i / float(m)\n",
    "        entropy_i = p_i * (math.log(p_i, 2))\n",
    "        shannon_entropy_value += entropy_i\n",
    " \n",
    "    return shannon_entropy_value * -1"
   ]
  },
  {
   "cell_type": "code",
   "execution_count": 8,
   "id": "b08e9850",
   "metadata": {},
   "outputs": [
    {
     "data": {
      "text/html": [
       "<div>\n",
       "<style scoped>\n",
       "    .dataframe tbody tr th:only-of-type {\n",
       "        vertical-align: middle;\n",
       "    }\n",
       "\n",
       "    .dataframe tbody tr th {\n",
       "        vertical-align: top;\n",
       "    }\n",
       "\n",
       "    .dataframe thead th {\n",
       "        text-align: right;\n",
       "    }\n",
       "</style>\n",
       "<table border=\"1\" class=\"dataframe\">\n",
       "  <thead>\n",
       "    <tr style=\"text-align: right;\">\n",
       "      <th></th>\n",
       "      <th>chrom</th>\n",
       "      <th>pos</th>\n",
       "      <th>matches</th>\n",
       "    </tr>\n",
       "  </thead>\n",
       "  <tbody>\n",
       "    <tr>\n",
       "      <th>0</th>\n",
       "      <td>chr5</td>\n",
       "      <td>3063186</td>\n",
       "      <td>GGIGIG</td>\n",
       "    </tr>\n",
       "    <tr>\n",
       "      <th>1</th>\n",
       "      <td>chr5</td>\n",
       "      <td>3063187</td>\n",
       "      <td>AAA</td>\n",
       "    </tr>\n",
       "    <tr>\n",
       "      <th>2</th>\n",
       "      <td>chr5</td>\n",
       "      <td>3063188</td>\n",
       "      <td>AAA</td>\n",
       "    </tr>\n",
       "    <tr>\n",
       "      <th>3</th>\n",
       "      <td>chr5</td>\n",
       "      <td>3063189</td>\n",
       "      <td>AAA</td>\n",
       "    </tr>\n",
       "    <tr>\n",
       "      <th>4</th>\n",
       "      <td>chr5</td>\n",
       "      <td>3063190</td>\n",
       "      <td>AAA</td>\n",
       "    </tr>\n",
       "    <tr>\n",
       "      <th>5</th>\n",
       "      <td>chr5</td>\n",
       "      <td>3063191</td>\n",
       "      <td>AAA</td>\n",
       "    </tr>\n",
       "    <tr>\n",
       "      <th>6</th>\n",
       "      <td>chr5</td>\n",
       "      <td>3063192</td>\n",
       "      <td>AAA</td>\n",
       "    </tr>\n",
       "    <tr>\n",
       "      <th>7</th>\n",
       "      <td>chr5</td>\n",
       "      <td>3063193</td>\n",
       "      <td>AAA</td>\n",
       "    </tr>\n",
       "    <tr>\n",
       "      <th>8</th>\n",
       "      <td>chr5</td>\n",
       "      <td>3063194</td>\n",
       "      <td>GGG</td>\n",
       "    </tr>\n",
       "    <tr>\n",
       "      <th>9</th>\n",
       "      <td>chr5</td>\n",
       "      <td>3063195</td>\n",
       "      <td>GGG</td>\n",
       "    </tr>\n",
       "    <tr>\n",
       "      <th>10</th>\n",
       "      <td>chr5</td>\n",
       "      <td>3063196</td>\n",
       "      <td>GGG</td>\n",
       "    </tr>\n",
       "    <tr>\n",
       "      <th>11</th>\n",
       "      <td>chr5</td>\n",
       "      <td>3063197</td>\n",
       "      <td>TTT</td>\n",
       "    </tr>\n",
       "    <tr>\n",
       "      <th>12</th>\n",
       "      <td>chr5</td>\n",
       "      <td>3063198</td>\n",
       "      <td>TTT</td>\n",
       "    </tr>\n",
       "    <tr>\n",
       "      <th>13</th>\n",
       "      <td>chr5</td>\n",
       "      <td>3063199</td>\n",
       "      <td>CCC</td>\n",
       "    </tr>\n",
       "    <tr>\n",
       "      <th>14</th>\n",
       "      <td>chr5</td>\n",
       "      <td>3063835</td>\n",
       "      <td>\"G</td>\n",
       "    </tr>\n",
       "    <tr>\n",
       "      <th>15</th>\n",
       "      <td>chr5</td>\n",
       "      <td>3063836</td>\n",
       "      <td>G</td>\n",
       "    </tr>\n",
       "    <tr>\n",
       "      <th>16</th>\n",
       "      <td>chr5</td>\n",
       "      <td>3063837</td>\n",
       "      <td>G</td>\n",
       "    </tr>\n",
       "    <tr>\n",
       "      <th>17</th>\n",
       "      <td>chr5</td>\n",
       "      <td>3063838</td>\n",
       "      <td>G</td>\n",
       "    </tr>\n",
       "    <tr>\n",
       "      <th>18</th>\n",
       "      <td>chr5</td>\n",
       "      <td>3063839</td>\n",
       "      <td>T</td>\n",
       "    </tr>\n",
       "    <tr>\n",
       "      <th>19</th>\n",
       "      <td>chr5</td>\n",
       "      <td>3063840</td>\n",
       "      <td>C</td>\n",
       "    </tr>\n",
       "  </tbody>\n",
       "</table>\n",
       "</div>"
      ],
      "text/plain": [
       "   chrom      pos matches\n",
       "0   chr5  3063186  GGIGIG\n",
       "1   chr5  3063187     AAA\n",
       "2   chr5  3063188     AAA\n",
       "3   chr5  3063189     AAA\n",
       "4   chr5  3063190     AAA\n",
       "5   chr5  3063191     AAA\n",
       "6   chr5  3063192     AAA\n",
       "7   chr5  3063193     AAA\n",
       "8   chr5  3063194     GGG\n",
       "9   chr5  3063195     GGG\n",
       "10  chr5  3063196     GGG\n",
       "11  chr5  3063197     TTT\n",
       "12  chr5  3063198     TTT\n",
       "13  chr5  3063199     CCC\n",
       "14  chr5  3063835      \"G\n",
       "15  chr5  3063836       G\n",
       "16  chr5  3063837       G\n",
       "17  chr5  3063838       G\n",
       "18  chr5  3063839       T\n",
       "19  chr5  3063840       C"
      ]
     },
     "execution_count": 8,
     "metadata": {},
     "output_type": "execute_result"
    }
   ],
   "source": [
    "pileup = pd.read_csv('CLIP-chr5.pileup', sep='\\t', names=['chrom', 'pos', '_ref', 'count', 'basereads', 'quals'])\n",
    "\n",
    "toremove = re.compile('[<>$*#^!]')\n",
    "pileup['matches'] = pileup['basereads'].apply(lambda x: toremove.sub('', x))\n",
    "pileup[['chrom', 'pos', 'matches']].head(20)"
   ]
  },
  {
   "cell_type": "code",
   "execution_count": 9,
   "id": "3093b77d",
   "metadata": {},
   "outputs": [],
   "source": [
    "value = []\n",
    "end_pos = []\n",
    "for i in range(len(pileup)) :\n",
    "    tmp = estimate_shannon_entropy(pileup['matches'][i])\n",
    "    value.append(tmp)\n",
    "    end_pos.append(pileup['pos'][i]+1)"
   ]
  },
  {
   "cell_type": "code",
   "execution_count": 10,
   "id": "8292a63f",
   "metadata": {},
   "outputs": [
    {
     "data": {
      "text/html": [
       "<div>\n",
       "<style scoped>\n",
       "    .dataframe tbody tr th:only-of-type {\n",
       "        vertical-align: middle;\n",
       "    }\n",
       "\n",
       "    .dataframe tbody tr th {\n",
       "        vertical-align: top;\n",
       "    }\n",
       "\n",
       "    .dataframe thead th {\n",
       "        text-align: right;\n",
       "    }\n",
       "</style>\n",
       "<table border=\"1\" class=\"dataframe\">\n",
       "  <thead>\n",
       "    <tr style=\"text-align: right;\">\n",
       "      <th></th>\n",
       "      <th>chr</th>\n",
       "      <th>start_pos</th>\n",
       "      <th>end_pos</th>\n",
       "      <th>value</th>\n",
       "    </tr>\n",
       "  </thead>\n",
       "  <tbody>\n",
       "    <tr>\n",
       "      <th>0</th>\n",
       "      <td>chr5</td>\n",
       "      <td>3063186</td>\n",
       "      <td>3063187</td>\n",
       "      <td>0.918296</td>\n",
       "    </tr>\n",
       "    <tr>\n",
       "      <th>1</th>\n",
       "      <td>chr5</td>\n",
       "      <td>3063187</td>\n",
       "      <td>3063188</td>\n",
       "      <td>-0.000000</td>\n",
       "    </tr>\n",
       "    <tr>\n",
       "      <th>2</th>\n",
       "      <td>chr5</td>\n",
       "      <td>3063188</td>\n",
       "      <td>3063189</td>\n",
       "      <td>-0.000000</td>\n",
       "    </tr>\n",
       "    <tr>\n",
       "      <th>3</th>\n",
       "      <td>chr5</td>\n",
       "      <td>3063189</td>\n",
       "      <td>3063190</td>\n",
       "      <td>-0.000000</td>\n",
       "    </tr>\n",
       "    <tr>\n",
       "      <th>4</th>\n",
       "      <td>chr5</td>\n",
       "      <td>3063190</td>\n",
       "      <td>3063191</td>\n",
       "      <td>-0.000000</td>\n",
       "    </tr>\n",
       "  </tbody>\n",
       "</table>\n",
       "</div>"
      ],
      "text/plain": [
       "    chr  start_pos  end_pos     value\n",
       "0  chr5    3063186  3063187  0.918296\n",
       "1  chr5    3063187  3063188 -0.000000\n",
       "2  chr5    3063188  3063189 -0.000000\n",
       "3  chr5    3063189  3063190 -0.000000\n",
       "4  chr5    3063190  3063191 -0.000000"
      ]
     },
     "execution_count": 10,
     "metadata": {},
     "output_type": "execute_result"
    }
   ],
   "source": [
    "chr = pileup['chrom']\n",
    "start_pos = pileup['pos']\n",
    "bedform = {'chr':chr, 'start_pos' : start_pos, 'end_pos' : end_pos, 'value' : value }\n",
    "bedform = pd.DataFrame(bedform)\n",
    "bedform.head()"
   ]
  },
  {
   "cell_type": "code",
   "execution_count": 11,
   "id": "323d9192",
   "metadata": {},
   "outputs": [],
   "source": [
    "bedform.to_csv(\"./bedform_chr5.txt\", sep=\"\\t\", index=False)"
   ]
  },
  {
   "cell_type": "code",
   "execution_count": 12,
   "id": "4ab221f0",
   "metadata": {},
   "outputs": [],
   "source": [
    "high_entropy = bedform[bedform['value'] > 0.8]\n",
    "high_entropy.head()\n",
    "high_entropy.to_csv(\"./bedfrom_high_entropy_chr5.txt\", sep=\"\\t\", index=False)"
   ]
  },
  {
   "cell_type": "code",
   "execution_count": 13,
   "id": "f7f8cb3f",
   "metadata": {},
   "outputs": [],
   "source": [
    "!samtools depth CLIP-chr5.bam > CLIP-chr5_depth.depth"
   ]
  },
  {
   "cell_type": "code",
   "execution_count": 14,
   "id": "8ad0d459",
   "metadata": {},
   "outputs": [],
   "source": [
    "!awk '$3>=50 {print $1\"\\t\"$2\"\\t\"$3}' CLIP-chr5_depth.depth > CLIP-chr5_depth.txt"
   ]
  },
  {
   "cell_type": "code",
   "execution_count": 15,
   "id": "70df551e",
   "metadata": {},
   "outputs": [
    {
     "data": {
      "text/plain": [
       "<bound method NDFrame.tail of       chrom        pos  depth\n",
       "0      chr5    3286627    213\n",
       "1      chr5    3286628    229\n",
       "2      chr5    3286629    229\n",
       "3      chr5    3286630    229\n",
       "4      chr5    3286631    229\n",
       "...     ...        ...    ...\n",
       "55593  chr5  150731439     91\n",
       "55594  chr5  150731440     75\n",
       "55595  chr5  150731441     61\n",
       "55596  chr5  150731442     61\n",
       "55597  chr5  150731443     54\n",
       "\n",
       "[55598 rows x 3 columns]>"
      ]
     },
     "execution_count": 15,
     "metadata": {},
     "output_type": "execute_result"
    }
   ],
   "source": [
    "depths = pd.read_csv('CLIP-chr5_depth.txt', sep='\\t', names=['chrom', 'pos', 'depth'])\n",
    "depths.tail"
   ]
  },
  {
   "cell_type": "code",
   "execution_count": 16,
   "id": "8433a14a",
   "metadata": {},
   "outputs": [
    {
     "data": {
      "text/plain": [
       "0          3286627\n",
       "1          3286628\n",
       "2          3286629\n",
       "3          3286630\n",
       "4          3286631\n",
       "           ...    \n",
       "55593    150731439\n",
       "55594    150731440\n",
       "55595    150731441\n",
       "55596    150731442\n",
       "55597    150731443\n",
       "Name: pos, Length: 55598, dtype: int64"
      ]
     },
     "execution_count": 16,
     "metadata": {},
     "output_type": "execute_result"
    }
   ],
   "source": [
    "high_depth_pos = depths['pos']\n",
    "high_depth_pos"
   ]
  },
  {
   "cell_type": "code",
   "execution_count": 17,
   "id": "7b3e2142",
   "metadata": {},
   "outputs": [],
   "source": [
    "hehd = pd.DataFrame()\n",
    "for pos in high_depth_pos :\n",
    "    tmp = high_entropy[high_entropy['start_pos']==pos]\n",
    "    if len(tmp) != 0 :\n",
    "        hehd = pd.concat([hehd,tmp])"
   ]
  },
  {
   "cell_type": "code",
   "execution_count": 18,
   "id": "235d9a9d",
   "metadata": {},
   "outputs": [
    {
     "data": {
      "text/html": [
       "<div>\n",
       "<style scoped>\n",
       "    .dataframe tbody tr th:only-of-type {\n",
       "        vertical-align: middle;\n",
       "    }\n",
       "\n",
       "    .dataframe tbody tr th {\n",
       "        vertical-align: top;\n",
       "    }\n",
       "\n",
       "    .dataframe thead th {\n",
       "        text-align: right;\n",
       "    }\n",
       "</style>\n",
       "<table border=\"1\" class=\"dataframe\">\n",
       "  <thead>\n",
       "    <tr style=\"text-align: right;\">\n",
       "      <th></th>\n",
       "      <th>chr</th>\n",
       "      <th>start_pos</th>\n",
       "      <th>end_pos</th>\n",
       "      <th>value</th>\n",
       "    </tr>\n",
       "  </thead>\n",
       "  <tbody>\n",
       "    <tr>\n",
       "      <th>650</th>\n",
       "      <td>chr5</td>\n",
       "      <td>3286627</td>\n",
       "      <td>3286628</td>\n",
       "      <td>0.980092</td>\n",
       "    </tr>\n",
       "    <tr>\n",
       "      <th>659</th>\n",
       "      <td>chr5</td>\n",
       "      <td>3286636</td>\n",
       "      <td>3286637</td>\n",
       "      <td>1.441961</td>\n",
       "    </tr>\n",
       "    <tr>\n",
       "      <th>660</th>\n",
       "      <td>chr5</td>\n",
       "      <td>3286637</td>\n",
       "      <td>3286638</td>\n",
       "      <td>1.127404</td>\n",
       "    </tr>\n",
       "    <tr>\n",
       "      <th>691</th>\n",
       "      <td>chr5</td>\n",
       "      <td>3286668</td>\n",
       "      <td>3286669</td>\n",
       "      <td>0.839403</td>\n",
       "    </tr>\n",
       "    <tr>\n",
       "      <th>715</th>\n",
       "      <td>chr5</td>\n",
       "      <td>3286692</td>\n",
       "      <td>3286693</td>\n",
       "      <td>1.069764</td>\n",
       "    </tr>\n",
       "  </tbody>\n",
       "</table>\n",
       "</div>"
      ],
      "text/plain": [
       "      chr  start_pos  end_pos     value\n",
       "650  chr5    3286627  3286628  0.980092\n",
       "659  chr5    3286636  3286637  1.441961\n",
       "660  chr5    3286637  3286638  1.127404\n",
       "691  chr5    3286668  3286669  0.839403\n",
       "715  chr5    3286692  3286693  1.069764"
      ]
     },
     "execution_count": 18,
     "metadata": {},
     "output_type": "execute_result"
    }
   ],
   "source": [
    "len(hehd)\n",
    "hehd.head()"
   ]
  },
  {
   "cell_type": "code",
   "execution_count": 19,
   "id": "c610b7b5",
   "metadata": {},
   "outputs": [],
   "source": [
    "chr = hehd['chr']\n",
    "start_pos = hehd['start_pos']\n",
    "end_pos = hehd['end_pos']\n",
    "input_bedtools = {'chr':chr, 'start_pos' : start_pos, 'end_pos' : end_pos, 'name' : hehd.chr+ hehd.start_pos.map(str), 'strand' : \"+\" }\n",
    "input_bedtools = pd.DataFrame(input_bedtools)\n",
    "input_bedtools.tail()\n",
    "input_bedtools.to_csv(\"./input_bedtools_chr5.bed\", sep=\"\\t\", index=False, header=False)"
   ]
  },
  {
   "cell_type": "code",
   "execution_count": 20,
   "id": "a7ca4a63",
   "metadata": {},
   "outputs": [],
   "source": [
    "!bedtools slop -i input_bedtools_chr5.bed -g hg38.genome -b 15 > chr5_binding_region.bed"
   ]
  },
  {
   "cell_type": "code",
   "execution_count": 21,
   "id": "741676f0",
   "metadata": {
    "scrolled": true
   },
   "outputs": [
    {
     "name": "stdout",
     "output_type": "stream",
     "text": [
      ">chr5\r\n",
      "NNNNNNNNNNNNNNNNNNNNNNNNNNNNNNNNNNNNNNNNNNNNNNNNNN\r\n",
      "NNNNNNNNNNNNNNNNNNNNNNNNNNNNNNNNNNNNNNNNNNNNNNNNNN\r\n",
      "NNNNNNNNNNNNNNNNNNNNNNNNNNNNNNNNNNNNNNNNNNNNNNNNNN\r\n",
      "NNNNNNNNNNNNNNNNNNNNNNNNNNNNNNNNNNNNNNNNNNNNNNNNNN\r\n"
     ]
    }
   ],
   "source": [
    "!head -5 chr5.fa"
   ]
  },
  {
   "cell_type": "code",
   "execution_count": 22,
   "id": "360f676b",
   "metadata": {},
   "outputs": [
    {
     "name": "stdout",
     "output_type": "stream",
     "text": [
      "index file chr5.fa.fai not found, generating...\r\n"
     ]
    }
   ],
   "source": [
    "!bedtools getfasta -fi chr5.fa -bed chr5_binding_region.bed -fo chr5_binding_region.fa"
   ]
  },
  {
   "cell_type": "code",
   "execution_count": 2,
   "id": "b9b6af5a",
   "metadata": {},
   "outputs": [],
   "source": [
    "from Bio import motifs\n",
    "from Bio.Seq import Seq\n",
    "from Bio import SeqIO\n",
    "from Bio.SeqRecord import SeqRecord"
   ]
  },
  {
   "cell_type": "code",
   "execution_count": 24,
   "id": "c5b335b5",
   "metadata": {},
   "outputs": [],
   "source": [
    "input_file = 'chr5_binding_region.fa'\n",
    "#Read fastq file and store it as a pd dataframe\n",
    "with open(input_file, 'r') as f:\n",
    "    data = f.readlines()\n",
    "#     print(data)"
   ]
  },
  {
   "cell_type": "code",
   "execution_count": 25,
   "id": "88cd5d4c",
   "metadata": {},
   "outputs": [],
   "source": [
    "data = [line.strip('\\n') for line in data]\n",
    "# print(data)"
   ]
  },
  {
   "cell_type": "code",
   "execution_count": 26,
   "id": "977dab33",
   "metadata": {},
   "outputs": [],
   "source": [
    "seq_id = [data[i] for i in range(len(data))if i%2 == 0]\n",
    "sequence = [Seq(data[i].upper()) for i in range(len(data))if i%2 == 1] "
   ]
  },
  {
   "cell_type": "code",
   "execution_count": 27,
   "id": "4205b79a",
   "metadata": {},
   "outputs": [
    {
     "name": "stdout",
     "output_type": "stream",
     "text": [
      "4587\n",
      "31\n",
      ">chr5:3286621-3286652\n",
      "TCATTCATTCATTCAGTGAATATCTGCCCAG\n",
      "A\n"
     ]
    }
   ],
   "source": [
    "print(len(sequence))\n",
    "print(len(sequence[1]))\n",
    "print(seq_id[1])\n",
    "print(sequence[1])\n",
    "print(str(sequence[1])[2])"
   ]
  },
  {
   "cell_type": "code",
   "execution_count": 28,
   "id": "62f41ec3",
   "metadata": {},
   "outputs": [],
   "source": [
    "select_seq = []\n",
    "for idx in range(0,len(sequence)) :\n",
    "    tmp_id = seq_id[idx]\n",
    "    tmp_seq = sequence[idx]\n",
    "    mid = str(tmp_seq)[13:16]\n",
    "    last = str(tmp_seq)[17]\n",
    "    if mid == \"AAG\" and last == \"G\":\n",
    "        tmp_seq = Seq(re.sub('T',\"U\",str(tmp_seq)))\n",
    "        rec = SeqRecord(tmp_seq,id=tmp_id)\n",
    "        select_seq.append(rec)"
   ]
  },
  {
   "cell_type": "code",
   "execution_count": 29,
   "id": "826a97a6",
   "metadata": {},
   "outputs": [
    {
     "data": {
      "text/plain": [
       "10"
      ]
     },
     "execution_count": 29,
     "metadata": {},
     "output_type": "execute_result"
    }
   ],
   "source": [
    "SeqIO.write(select_seq, \"select_AAGNGH_chr5.fa\", \"fasta\")"
   ]
  },
  {
   "cell_type": "code",
   "execution_count": 30,
   "id": "13eab166",
   "metadata": {},
   "outputs": [],
   "source": [
    "select_seq = []\n",
    "for idx in range(0,len(sequence)) :\n",
    "    tmp_id = seq_id[idx]\n",
    "    tmp_seq = sequence[idx]\n",
    "    mid = str(tmp_seq)[13:16]\n",
    "    last = str(tmp_seq)[18]\n",
    "    if mid == \"AAG\" and last == \"G\":\n",
    "        tmp_seq = Seq(re.sub('T',\"U\",str(tmp_seq)))\n",
    "        rec = SeqRecord(tmp_seq,id=tmp_id)\n",
    "        select_seq.append(rec)"
   ]
  },
  {
   "cell_type": "code",
   "execution_count": 31,
   "id": "de43ff63",
   "metadata": {},
   "outputs": [
    {
     "data": {
      "text/plain": [
       "18"
      ]
     },
     "execution_count": 31,
     "metadata": {},
     "output_type": "execute_result"
    }
   ],
   "source": [
    "SeqIO.write(select_seq, \"select_AAGNHG_chr5.fa\", \"fasta\")"
   ]
  },
  {
   "cell_type": "code",
   "execution_count": null,
   "id": "bcb87900",
   "metadata": {},
   "outputs": [],
   "source": [
    "!cat select_AAGNHG_* > select_AAGNHG.fa"
   ]
  },
  {
   "cell_type": "code",
   "execution_count": null,
   "id": "2910e626",
   "metadata": {},
   "outputs": [],
   "source": [
    "!cat select_AAGNGH_* > select_AAGNGH.fa"
   ]
  },
  {
   "cell_type": "code",
   "execution_count": 24,
   "id": "37c42765",
   "metadata": {},
   "outputs": [],
   "source": [
    "!cat *_binding_region.fa > binding_region.fa"
   ]
  },
  {
   "cell_type": "code",
   "execution_count": 25,
   "id": "8bcd01fb",
   "metadata": {},
   "outputs": [],
   "source": [
    "input_file = 'binding_region.fa'\n",
    "#Read fastq file and store it as a pd dataframe\n",
    "with open(input_file, 'r') as f:\n",
    "    data = f.readlines()\n",
    "#     print(data)"
   ]
  },
  {
   "cell_type": "code",
   "execution_count": 26,
   "id": "1037a768",
   "metadata": {},
   "outputs": [],
   "source": [
    "data = [line.strip('\\n') for line in data]\n",
    "seq_id = [data[i] for i in range(len(data))if i%2 == 0]\n",
    "sequence = [Seq(data[i].upper()) for i in range(len(data))if i%2 == 1] "
   ]
  },
  {
   "cell_type": "code",
   "execution_count": 27,
   "id": "17944110",
   "metadata": {},
   "outputs": [
    {
     "data": {
      "text/plain": [
       "Seq('GAAAAAAGTAGACAAGGGAAGAAAGCCAGAA')"
      ]
     },
     "execution_count": 27,
     "metadata": {},
     "output_type": "execute_result"
    }
   ],
   "source": [
    "sequence[475]"
   ]
  },
  {
   "cell_type": "code",
   "execution_count": 29,
   "id": "43333bb7",
   "metadata": {},
   "outputs": [],
   "source": [
    "select_seq = []\n",
    "for idx in range(0,len(sequence)) :\n",
    "    tmp_id = seq_id[idx]\n",
    "    tmp_seq = sequence[idx]\n",
    "    mid = str(tmp_seq)[15]\n",
    "    if mid == \"G\" :\n",
    "        tmp_seq = Seq(re.sub('T',\"U\",str(tmp_seq)))\n",
    "        rec = SeqRecord(tmp_seq[10:21],id=tmp_id)\n",
    "        select_seq.append(rec)"
   ]
  },
  {
   "cell_type": "code",
   "execution_count": 30,
   "id": "ee0094ba",
   "metadata": {},
   "outputs": [
    {
     "data": {
      "text/plain": [
       "SeqRecord(seq=Seq('GACAAGGGAAG'), id='>chr13:18994599-18994630', name='<unknown name>', description='<unknown description>', dbxrefs=[])"
      ]
     },
     "execution_count": 30,
     "metadata": {},
     "output_type": "execute_result"
    }
   ],
   "source": [
    "select_seq[0]"
   ]
  },
  {
   "cell_type": "code",
   "execution_count": 31,
   "id": "1e2733d0",
   "metadata": {},
   "outputs": [
    {
     "data": {
      "text/plain": [
       "6548"
      ]
     },
     "execution_count": 31,
     "metadata": {},
     "output_type": "execute_result"
    }
   ],
   "source": [
    "SeqIO.write(select_seq, \"binding_region.fa\", \"fasta\")"
   ]
  }
 ],
 "metadata": {
  "kernelspec": {
   "display_name": "Python 3 (ipykernel)",
   "language": "python",
   "name": "python3"
  },
  "language_info": {
   "codemirror_mode": {
    "name": "ipython",
    "version": 3
   },
   "file_extension": ".py",
   "mimetype": "text/x-python",
   "name": "python",
   "nbconvert_exporter": "python",
   "pygments_lexer": "ipython3",
   "version": "3.11.3"
  }
 },
 "nbformat": 4,
 "nbformat_minor": 5
}
