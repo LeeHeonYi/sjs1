{
 "cells": [
  {
   "cell_type": "markdown",
   "metadata": {
    "id": "_SmTogjeMD47"
   },
   "source": [
    "# 생물정보학 및 실습 1 - Term Project용 Mission 2 환경 셋업"
   ]
  },
  {
   "cell_type": "markdown",
   "metadata": {
    "id": "o7NwoWdnMuHS"
   },
   "source": [
    "```\n",
    "생물정보학 및 실습 1\n",
    "서울대학교 생물정보학전공/생명과학부 2023년 1학기\n",
    "\n",
    "이 노트북은 Creative Commons BY-SA 조건으로 재사용 가능합니다.\n",
    "장혜식 <hyeshik@snu.ac.kr>, 서울대학교 생명과학부\n",
    "```\n",
    "\n",
    "이 노트북은 Google Colab을 이용해서 Term Project를 할 수 있도록 환경을 준비해 줍니다. 터미널 사용이 원활하지 않은 상태이고, 데이터를 오랫동안 보관하기 어렵기 때문에 되도록 개인용 컴퓨터에서 [Anaconda](https://www.anaconda.com/)나 [JupyterLab](https://jupyterlab.readthedocs.io/en/stable/) 등을 설치하고 사용하시는 것이 편하지만, 개인용 컴퓨터 사양이 부족한 경우에는 Google CoLab을 사용할 수도 있습니다. 개인용 컴퓨터를 쓸 때는 Windows에서는 [WSL2](https://docs.microsoft.com/en-us/windows/wsl/install-win10)를 쓰시면 리눅스 커맨드라인 환경을 쓸 수 있습니다. Google Colab은 창을 닫은 후 90분 후, 또는 창을 처음 열고 12시간 후에 환경을 닫아버리기 때문에 매번 실습할 때마다 새로 셋업이 필요합니다. `Runtime->Run All`을 실행해서 전체를 한 번 실행하시면 준비됩니다. 모든 것이 잘 안 되고 뭔가 꼬인 느낌이 강하게 들 때는 `Runtime->Factory reset runtime`을 누르고 새로 시작하시면 될 수도 있습니다.\n"
   ]
  },
  {
   "cell_type": "markdown",
   "metadata": {
    "id": "O4ofnSipMuHa"
   },
   "source": [
    "## Google Drive 마운트\n",
    "\n",
    "데이터 파일들을 불러오고 저장하기 위해서 Google Drive를 연결합니다. 화면에 나오는 주소를 눌러서 인증하고 인증 코드를 그 아래에 입력하세요. 그러면 `/contents/drive/MyDrive`에서 자신의 Drive 최상단 폴더가 보입니다. Google CoLab에서 접속하지 않고, 본인 컴퓨터 또는 연구실 워크스테이션 등 다른 컴퓨터를 쓰시는 경우에는 저장공간이 충분하므로 이 부분은 생략하고 지나갑니다."
   ]
  },
  {
   "cell_type": "code",
   "execution_count": 1,
   "metadata": {
    "colab": {
     "base_uri": "https://localhost:8080/"
    },
    "executionInfo": {
     "elapsed": 67383,
     "status": "ok",
     "timestamp": 1683621104514,
     "user": {
      "displayName": "­이헌이 / 학생 / 협동과정 생물정보학전공",
      "userId": "12109800671008169597"
     },
     "user_tz": -540
    },
    "id": "2kWbS8JWMuHa",
    "outputId": "3d747e6e-d145-4b8d-cd33-a21bec605b6d"
   },
   "outputs": [
    {
     "name": "stdout",
     "output_type": "stream",
     "text": [
      "Mounted at /content/drive\n"
     ]
    }
   ],
   "source": [
    "#from google.colab import drive\n",
    "#drive.mount('/content/drive')"
   ]
  },
  {
   "cell_type": "markdown",
   "metadata": {
    "id": "xQZGShwEMuHa"
   },
   "source": [
    "## 실습용 Bioconda 환경 설치하기\n",
    "Google CoLab에서 접속하지 않고, 본인 컴퓨터 또는 연구실 워크스테이션 등 다른 컴퓨터를 쓰시는 경우에는 따로 실습용 [Bioconda](https://bioconda.github.io/) 환경을 구축해서 이 노트북을 그 환경 안에서 띄우시면 됩니다.\n",
    "\n",
    "CoLab을 쓰시는 분들은 다음에 따라서 실습용 프로그램들을 쉽게 설치할 수 있도록 [Bioconda](https://bioconda.github.io/) 환경을 만듭니다. 실행하고 진행상황을 관찰하다가 에러로 보이는 것이 있으면 잘 읽어보고 해결합니다.\n",
    "\n",
    "파이썬 모듈들은 Colab쪽의 파이썬 인터프리터를 바꿀 수 없기 때문에 Conda에 설치하더라도 사용하기 어렵습니다. 파이썬 모듈은 `pip` 명령어로 설치하시면 Colab에서 불러와서 사용할 수 있습니다.\n",
    "\n",
    "환경 초기화에 관련된 스크립트는 [GitHub 프로젝트](https://github.com/hyeshik/colab-biolab)에 있습니다."
   ]
  },
  {
   "cell_type": "code",
   "execution_count": 2,
   "metadata": {
    "colab": {
     "base_uri": "https://localhost:8080/"
    },
    "executionInfo": {
     "elapsed": 12696,
     "status": "ok",
     "timestamp": 1683621121609,
     "user": {
      "displayName": "­이헌이 / 학생 / 협동과정 생물정보학전공",
      "userId": "12109800671008169597"
     },
     "user_tz": -540
    },
    "id": "_i5ZwVHUMuHb",
    "outputId": "4042fbbe-c451-4138-ffc8-03e661d2f38b"
   },
   "outputs": [
    {
     "name": "stdout",
     "output_type": "stream",
     "text": [
      "Cloning into 'colab-biolab'...\n",
      "remote: Enumerating objects: 76, done.\u001b[K\n",
      "remote: Counting objects: 100% (76/76), done.\u001b[K\n",
      "remote: Compressing objects: 100% (47/47), done.\u001b[K\n",
      "remote: Total 76 (delta 26), reused 59 (delta 15), pack-reused 0\u001b[K\n",
      "Unpacking objects: 100% (76/76), 318.14 KiB | 1.32 MiB/s, done.\n",
      "./\n",
      "./root/\n",
      "./root/.tmux.conf\n",
      "./root/.profile\n",
      "./root/.bashrc.biolab\n",
      "./root/.condarc\n",
      "./root/.vimrc\n",
      "./root/.bin.priority/\n",
      "./root/.bin.priority/pip\n",
      "./root/.bin.priority/pip3\n",
      "./root/.bin.priority/pip2\n",
      "--2023-05-09 08:31:51--  https://repo.anaconda.com/miniconda/Miniconda3-latest-Linux-x86_64.sh\n",
      "Resolving repo.anaconda.com (repo.anaconda.com)... 104.16.130.3, 104.16.131.3, 2606:4700::6810:8203, ...\n",
      "Connecting to repo.anaconda.com (repo.anaconda.com)|104.16.130.3|:443... connected.\n",
      "HTTP request sent, awaiting response... 200 OK\n",
      "Length: 73134376 (70M) [application/x-sh]\n",
      "Saving to: ‘miniconda3.sh’\n",
      "\n",
      "miniconda3.sh       100%[===================>]  69.75M   182MB/s    in 0.4s    \n",
      "\n",
      "2023-05-09 08:31:51 (182 MB/s) - ‘miniconda3.sh’ saved [73134376/73134376]\n",
      "\n",
      "PREFIX=/root/conda\n",
      "Unpacking payload ...\n",
      "                                                                                      \n",
      "Installing base environment...\n",
      "\n",
      "\n",
      "Downloading and Extracting Packages\n",
      "\n",
      "\n",
      "Downloading and Extracting Packages\n",
      "\n",
      "Preparing transaction: - \b\b\\ \b\b| \b\b/ \b\b- \b\bdone\n",
      "Executing transaction: | \b\b/ \b\b- \b\b\\ \b\b| \b\b/ \b\b- \b\b\\ \b\b| \b\b/ \b\b- \b\b\\ \b\b| \b\b/ \b\b- \b\b\\ \b\b| \b\b/ \b\b- \b\b\\ \b\b| \b\bdone\n",
      "installation finished.\n",
      "WARNING:\n",
      "    You currently have a PYTHONPATH environment variable set. This may cause\n",
      "    unexpected behavior when running the Python interpreter in Miniconda3.\n",
      "    For best results, please verify that your PYTHONPATH only points to\n",
      "    directories of packages that are compatible with the Python interpreter\n",
      "    in Miniconda3: /root/conda\n",
      "Activated conda environment `lab'!\n"
     ]
    }
   ],
   "source": [
    "# !git clone https://github.com/hyeshik/colab-biolab.git\n",
    "# !cd colab-biolab && bash tools/setup.sh\n",
    "# exec(open('colab-biolab/tools/activate_conda.py').read())"
   ]
  },
  {
   "cell_type": "markdown",
   "metadata": {
    "id": "3Sabp7OAMuHb"
   },
   "source": [
    "설정이 끝났으면, 이제 콘솔을 열어서 터미널로 접속할 수 있는 통로를 열어줍니다."
   ]
  },
  {
   "cell_type": "markdown",
   "metadata": {
    "id": "z6RiPiSRMuHb"
   },
   "source": [
    "## 시퀀싱 데이터 다운로드\n",
    "첫 실습 시간에 데이터 복사를 마쳤으면 이 부분은 생략하고 지나갑니다.\n",
    "\n",
    "이제 실습 수업에서 필요한 시퀀싱 데이터를 다운로드 받아서 설치합시다. 드라이브 공간만 충분하면 데이터는 계속 저장돼 있기 때문에 학기 전체를 통해서 딱 한 번만 하시면 됩니다. Colab에서는 작업용 데이터를 Google Drive 폴더 아래의 `binfo-datapack1`에 저장합니다. 실습용 데이터는 `/content/drive/MyDrive/binfo1-datapack1`에 풀리게 됩니다.\n",
    "\n",
    "### (Option 1) Google CoLab에서 접속한 경우\n",
    "1. [Google Drive 공유폴더](https://drive.google.com/drive/folders/1QBJednh-C7A17PFOlpZHBKyDmBvd6klh?usp=sharing)에 접속합니다.\n",
    "1. 중간 제목줄의 \"binfo1-datapack1 ▾\"에서 ▾을 누릅니다.\n",
    "1. Add shortcut to Drive를 누릅니다.\n",
    "1. My Drive를 선택해서 ADD SHORTCUT 버튼을 누릅니다.\n",
    "1. 다음 cell을 실행해서 링크가 제대로 들어왔는지 확인합니다. (바로 확인되지 않으면 3–5분 정도 기다렸다가 하면 됩니다.)\n",
    "1. 제대로 확인되면 다음으로 넘어갑니다.\n"
   ]
  },
  {
   "cell_type": "code",
   "execution_count": 3,
   "metadata": {
    "colab": {
     "base_uri": "https://localhost:8080/"
    },
    "executionInfo": {
     "elapsed": 1820,
     "status": "ok",
     "timestamp": 1683621123428,
     "user": {
      "displayName": "­이헌이 / 학생 / 협동과정 생물정보학전공",
      "userId": "12109800671008169597"
     },
     "user_tz": -540
    },
    "id": "D24wKYriG8tI",
    "outputId": "0043d0a4-ab0e-46ca-8bb1-561bca3d46a3"
   },
   "outputs": [
    {
     "name": "stdout",
     "output_type": "stream",
     "text": [
      "total 7171564\r\n",
      "drwxrwxr-x 2 hy hy       4096  4월 29 15:33 .\r\n",
      "drwxrwxr-x 4 hy hy       4096  5월 10 10:16 ..\r\n",
      "-rw-rw-r-- 1 hy hy 1370036258  4월 29 14:29 CLIP-35L33G.bam\r\n",
      "-rw-rw-r-- 1 hy hy    3118336  4월 29 14:29 CLIP-35L33G.bam.bai\r\n",
      "-rw-rw-r-- 1 hy hy  883334756  4월 29 14:29 gencode.gtf\r\n",
      "-rw-rw-r-- 1 hy hy   28359457  4월 29 14:29 gencode.gtf.gz\r\n",
      "-rw-rw-r-- 1 hy hy   24065406  4월 29 15:33 read-counts.txt\r\n",
      "-rw-rw-r-- 1 hy hy        751  4월 29 15:33 read-counts.txt.summary\r\n",
      "-rw-rw-r-- 1 hy hy 1003658801  4월 29 14:29 RNA-control.bam\r\n",
      "-rw-rw-r-- 1 hy hy    2276104  4월 29 14:29 RNA-control.bam.bai\r\n",
      "-rw-rw-r-- 1 hy hy 1260991122  4월 29 14:29 RNA-siLin28a.bam\r\n",
      "-rw-rw-r-- 1 hy hy    2710744  4월 29 14:29 RNA-siLin28a.bam.bai\r\n",
      "-rw-rw-r-- 1 hy hy  981684502  4월 29 14:29 RNA-siLuc.bam\r\n",
      "-rw-rw-r-- 1 hy hy    2606104  4월 29 14:29 RNA-siLuc.bam.bai\r\n",
      "-rw-rw-r-- 1 hy hy  737352902  4월 29 14:29 RPF-siLin28a.bam\r\n",
      "-rw-rw-r-- 1 hy hy    2482768  4월 29 14:29 RPF-siLin28a.bam.bai\r\n",
      "-rw-rw-r-- 1 hy hy 1055123479  4월 29 14:29 RPF-siLuc.bam\r\n",
      "-rw-rw-r-- 1 hy hy    2605912  4월 29 14:29 RPF-siLuc.bam.bai\r\n"
     ]
    }
   ],
   "source": [
    "!ls -al ./binfo1-datapack1/"
   ]
  },
  {
   "cell_type": "markdown",
   "metadata": {
    "id": "OZ0KkKrmG-M4"
   },
   "source": [
    "### (Option 2) CoLab외의 다른 환경에서 접속한 경우\n",
    "본인 컴퓨터나 연구실 워크스테이션 등에서 작업하는 경우에는 다음 명령어로 다운로드 받으시면 됩니다. 첫 번째에는 wget이 접속오류를 내는 경우가 많으니, 접속에러가 발생하면 다시 한 번 실행해 보세요. `/content/drive/Mydrive` 부분은 원하는 저장 경로로 바꿔서 지정하시면 됩니다."
   ]
  },
  {
   "cell_type": "code",
   "execution_count": null,
   "metadata": {
    "id": "LnLWxOljMuHb"
   },
   "outputs": [],
   "source": [
    "# !wget -O - --no-check-certificate https://hyeshik.qbio.io/binfo/binfo1-datapack1.tar | tar -C /content/drive/MyDrive -xf -"
   ]
  },
  {
   "cell_type": "markdown",
   "metadata": {
    "id": "jfQRBt3eMuHc"
   },
   "source": [
    "그리고, GENCODE Annotation 데이터도 미리 받아서 저장해 둡니다. 에러가 나면 다시 한 번 실행해 봅니다."
   ]
  },
  {
   "cell_type": "code",
   "execution_count": null,
   "metadata": {
    "id": "o3vbErniMuHc"
   },
   "outputs": [],
   "source": [
    "# !wget --no-check-certificate -O /content/drive/MyDrive/binfo1-datapack1/gencode.gtf.gz http://ftp.ebi.ac.uk/pub/databases/gencode/Gencode_mouse/release_M27/gencode.vM27.annotation.gtf.gz"
   ]
  },
  {
   "cell_type": "markdown",
   "metadata": {
    "id": "cEsuYjeoMuHc"
   },
   "source": [
    "다루기 쉽도록 Annotation 압축을 풉니다."
   ]
  },
  {
   "cell_type": "code",
   "execution_count": null,
   "metadata": {
    "id": "47_i6FbYMuHc"
   },
   "outputs": [],
   "source": [
    "# !gunzip /content/drive/MyDrive/binfo1-datapack1/gencode.gtf.gz"
   ]
  },
  {
   "cell_type": "markdown",
   "metadata": {
    "id": "LRmsio_KMuHc"
   },
   "source": [
    "### 파일 체크섬 확인\n",
    "\n",
    "받은 데이터의 MD5 체크섬을 확인합니다. 한참 걸립니다. 각 파일들의 원래 체크섬은 다음과 같습니다. 한 번 비교해 보세요.\n",
    "\n",
    "```\n",
    "140aaf30bcb9276cc716f8699f04ddd6  CLIP-35L33G.bam\n",
    "f1b3336ed7e2f97d562dcc71641251bd  CLIP-35L33G.bam.bai\n",
    "328883a73d507eafbf5b60bd6b906201  RNA-control.bam\n",
    "02073818e2f398a73c3b76e5169de1ca  RNA-control.bam.bai\n",
    "b09550d09d6c2a4ce27f0226f426fdb1  RNA-siLin28a.bam\n",
    "fef112c727244060ea62d3f2564a07f6  RNA-siLin28a.bam.bai\n",
    "28bbd0c47d725669340c784f1b772c01  RNA-siLuc.bam\n",
    "43590fdc4d81905c0432e0d1cb8cfd5b  RNA-siLuc.bam.bai\n",
    "5c08a9297307bc83259e658c4474f0cc  RPF-siLin28a.bam\n",
    "a1bb3e29be412dfd7fd8d16b1b1acc4c  RPF-siLin28a.bam.bai\n",
    "f2eebf50943024d0116c9cd3e744c707  RPF-siLuc.bam\n",
    "dc24f69e8f571fc8be30f28ce5b84fcd  RPF-siLuc.bam.bai\n",
    "```"
   ]
  },
  {
   "cell_type": "code",
   "execution_count": 5,
   "metadata": {
    "colab": {
     "base_uri": "https://localhost:8080/"
    },
    "executionInfo": {
     "elapsed": 14984,
     "status": "ok",
     "timestamp": 1683621150796,
     "user": {
      "displayName": "­이헌이 / 학생 / 협동과정 생물정보학전공",
      "userId": "12109800671008169597"
     },
     "user_tz": -540
    },
    "id": "g8lC_YJRBCPf",
    "outputId": "8c176dfa-176b-46ec-a236-8aa1235ab65f"
   },
   "outputs": [
    {
     "name": "stdout",
     "output_type": "stream",
     "text": [
      "140aaf30bcb9276cc716f8699f04ddd6  ./binfo1-datapack1/CLIP-35L33G.bam\n",
      "f1b3336ed7e2f97d562dcc71641251bd  ./binfo1-datapack1/CLIP-35L33G.bam.bai\n",
      "d54d428f5872030c4ffc43058709b896  ./binfo1-datapack1/gencode.gtf\n",
      "7c0997cd68c2331b6520f00722c9a53f  ./binfo1-datapack1/gencode.gtf.gz\n",
      "f691d94ca9c72e6feedbfe4561dd5b83  ./binfo1-datapack1/read-counts.txt\n",
      "7c9528c08ed2f1ae6e2de599db1aa8fb  ./binfo1-datapack1/read-counts.txt.summary\n",
      "328883a73d507eafbf5b60bd6b906201  ./binfo1-datapack1/RNA-control.bam\n",
      "02073818e2f398a73c3b76e5169de1ca  ./binfo1-datapack1/RNA-control.bam.bai\n",
      "b09550d09d6c2a4ce27f0226f426fdb1  ./binfo1-datapack1/RNA-siLin28a.bam\n",
      "fef112c727244060ea62d3f2564a07f6  ./binfo1-datapack1/RNA-siLin28a.bam.bai\n",
      "28bbd0c47d725669340c784f1b772c01  ./binfo1-datapack1/RNA-siLuc.bam\n",
      "43590fdc4d81905c0432e0d1cb8cfd5b  ./binfo1-datapack1/RNA-siLuc.bam.bai\n",
      "5c08a9297307bc83259e658c4474f0cc  ./binfo1-datapack1/RPF-siLin28a.bam\n",
      "a1bb3e29be412dfd7fd8d16b1b1acc4c  ./binfo1-datapack1/RPF-siLin28a.bam.bai\n",
      "f2eebf50943024d0116c9cd3e744c707  ./binfo1-datapack1/RPF-siLuc.bam\n",
      "dc24f69e8f571fc8be30f28ce5b84fcd  ./binfo1-datapack1/RPF-siLuc.bam.bai\n"
     ]
    }
   ],
   "source": [
    "!md5sum ./binfo1-datapack1/*"
   ]
  },
  {
   "cell_type": "code",
   "execution_count": 6,
   "metadata": {
    "id": "PVXzIs5FE3Q4"
   },
   "outputs": [
    {
     "name": "stdout",
     "output_type": "stream",
     "text": [
      "total 7171564\r\n",
      "drwxrwxr-x 2 hy hy       4096  4월 29 15:33 .\r\n",
      "drwxrwxr-x 4 hy hy       4096  5월 10 10:23 ..\r\n",
      "-rw-rw-r-- 1 hy hy 1370036258  4월 29 14:29 CLIP-35L33G.bam\r\n",
      "-rw-rw-r-- 1 hy hy    3118336  4월 29 14:29 CLIP-35L33G.bam.bai\r\n",
      "-rw-rw-r-- 1 hy hy  883334756  4월 29 14:29 gencode.gtf\r\n",
      "-rw-rw-r-- 1 hy hy   28359457  4월 29 14:29 gencode.gtf.gz\r\n",
      "-rw-rw-r-- 1 hy hy   24065406  4월 29 15:33 read-counts.txt\r\n",
      "-rw-rw-r-- 1 hy hy        751  4월 29 15:33 read-counts.txt.summary\r\n",
      "-rw-rw-r-- 1 hy hy 1003658801  4월 29 14:29 RNA-control.bam\r\n",
      "-rw-rw-r-- 1 hy hy    2276104  4월 29 14:29 RNA-control.bam.bai\r\n",
      "-rw-rw-r-- 1 hy hy 1260991122  4월 29 14:29 RNA-siLin28a.bam\r\n",
      "-rw-rw-r-- 1 hy hy    2710744  4월 29 14:29 RNA-siLin28a.bam.bai\r\n",
      "-rw-rw-r-- 1 hy hy  981684502  4월 29 14:29 RNA-siLuc.bam\r\n",
      "-rw-rw-r-- 1 hy hy    2606104  4월 29 14:29 RNA-siLuc.bam.bai\r\n",
      "-rw-rw-r-- 1 hy hy  737352902  4월 29 14:29 RPF-siLin28a.bam\r\n",
      "-rw-rw-r-- 1 hy hy    2482768  4월 29 14:29 RPF-siLin28a.bam.bai\r\n",
      "-rw-rw-r-- 1 hy hy 1055123479  4월 29 14:29 RPF-siLuc.bam\r\n",
      "-rw-rw-r-- 1 hy hy    2605912  4월 29 14:29 RPF-siLuc.bam.bai\r\n"
     ]
    }
   ],
   "source": [
    "!ls -al ./binfo*"
   ]
  },
  {
   "cell_type": "markdown",
   "metadata": {
    "id": "mI3qWMY-KHdC"
   },
   "source": [
    "# 파일 복사하기\n",
    "첫 시간에 파일을 복사해 두었으면 이 부분은 생략하고 다음으로 넘어갑니다.\n",
    "\n",
    "공유한 폴더를 나의 작업 폴더로 복사합니다."
   ]
  },
  {
   "cell_type": "code",
   "execution_count": null,
   "metadata": {
    "id": "vkK90WhtKWF7"
   },
   "outputs": [],
   "source": [
    "# !mkdir -p /content/drive/MyDrive/binfo1-work\n",
    "# %cd /content/drive/MyDrive/binfo1-work\n",
    "# !cp ../binfo1-datapack1/* ."
   ]
  },
  {
   "cell_type": "markdown",
   "metadata": {
    "id": "WnmAcefjKi2G"
   },
   "source": [
    "# 프로그램 설치\n",
    "데이터 준비가 끝났으면, 이제 이번 시간 실습에 필요한 프로그램들 몇 가지를 추가로 설치합니다."
   ]
  },
  {
   "cell_type": "code",
   "execution_count": 5,
   "metadata": {
    "colab": {
     "base_uri": "https://localhost:8080/"
    },
    "executionInfo": {
     "elapsed": 52559,
     "status": "ok",
     "timestamp": 1683621208141,
     "user": {
      "displayName": "­이헌이 / 학생 / 협동과정 생물정보학전공",
      "userId": "12109800671008169597"
     },
     "user_tz": -540
    },
    "id": "neteyWsWEKBy",
    "outputId": "39909010-168e-46cb-bba5-f1ab0a997335"
   },
   "outputs": [
    {
     "name": "stdout",
     "output_type": "stream",
     "text": [
      "Collecting package metadata (current_repodata.json): - \b\b\\ \b\b| \b\b/ \b\b- \b\b\\ \b\b| \b\b/ \b\b- \b\b\\ \b\b| \b\b/ \b\b- \b\b\\ \b\b| \b\b/ \b\b- \b\b\\ \b\b| \b\b/ \b\b- \b\b\\ \b\b| \b\b/ \b\b- \b\b\\ \b\b| \b\b/ \b\b- \b\b\\ \b\b| \b\b/ \b\b- \b\b\\ \b\b| \b\b/ \b\b- \b\b\\ \b\b| \b\b/ \b\b- \b\b\\ \b\b| \b\b/ \b\b- \b\b\\ \b\b| \b\b/ \b\b- \b\b\\ \b\b| \b\b/ \b\b- \b\b\\ \b\b| \b\b/ \b\b- \b\b\\ \b\b| \b\b/ \b\b- \b\b\\ \b\b| \b\b/ \b\b- \b\b\\ \b\b| \b\b/ \b\b- \b\b\\ \b\b| \b\b/ \b\b- \b\b\\ \b\b| \b\b/ \b\b- \b\b\\ \b\b| \b\b/ \b\b- \b\b\\ \b\b| \b\b/ \b\b- \b\b\\ \b\b| \b\b/ \b\b- \b\b\\ \b\b| \b\b/ \b\b- \b\b\\ \b\b| \b\b/ \b\b- \b\b\\ \b\b| \b\b/ \b\b- \b\b\\ \b\b| \b\b/ \b\b- \b\b\\ \b\b| \b\b/ \b\b- \b\b\\ \b\b| \b\b/ \b\b- \b\b\\ \b\b| \b\b/ \b\b- \b\b\\ \b\b| \b\b/ \b\b- \b\b\\ \b\b| \b\b/ \b\b- \b\b\\ \b\b| \b\b/ \b\b- \b\b\\ \b\b| \b\b/ \b\b- \b\b\\ \b\b| \b\b/ \b\b- \b\b\\ \b\b| \b\b/ \b\b- \b\b\\ \b\b| \b\b/ \b\b- \b\b\\ \b\b| \b\b/ \b\b- \b\b\\ \b\b| \b\b/ \b\b- \b\b\\ \b\b| \b\b/ \b\b- \b\b\\ \b\b| \b\b/ \b\b- \b\b\\ \b\b| \b\b/ \b\b- \b\b\\ \b\b| \b\b/ \b\b- \b\b\\ \b\b| \b\b/ \b\b- \b\b\\ \b\b| \b\b/ \b\b- \b\b\\ \b\b| \b\b/ \b\b- \b\b\\ \b\b| \b\b/ \b\b- \b\b\\ \b\b| \b\b/ \b\b- \b\b\\ \b\b| \b\b/ \b\b- \b\b\\ \b\b| \b\b/ \b\b- \b\b\\ \b\b| \b\b/ \b\b- \b\b\\ \b\b| \b\b/ \b\b- \b\b\\ \b\b| \b\b/ \b\b- \b\b\\ \b\b| \b\b/ \b\b- \b\b\\ \b\b| \b\b/ \b\b- \b\b\\ \b\b| \b\b/ \b\b- \b\b\\ \b\b| \b\b/ \b\b- \b\b\\ \b\b| \b\b/ \b\b- \b\b\\ \b\b| \b\b/ \b\b- \b\b\\ \b\b| \b\b/ \b\b- \b\b\\ \b\b| \b\b/ \b\b- \b\b\\ \b\b| \b\b/ \b\b- \b\b\\ \b\b| \b\b/ \b\b- \b\b\\ \b\b| \b\b/ \b\b- \b\b\\ \b\b| \b\b/ \b\b- \b\b\\ \b\b| \b\b/ \b\bdone\n",
      "Solving environment: \\ \b\b| \b\b/ \b\b- \b\b\\ \b\b| \b\b/ \b\b- \b\b\\ \b\b| \b\b/ \b\b- \b\b\\ \b\b| \b\b/ \b\b- \b\b\\ \b\b| \b\b/ \b\b- \b\b\\ \b\b| \b\b/ \b\b- \b\b\\ \b\b| \b\b/ \b\b- \b\b\\ \b\b| \b\b/ \b\b- \b\bdone\n",
      "\n",
      "## Package Plan ##\n",
      "\n",
      "  environment location: /root/conda\n",
      "\n",
      "  added / updated specs:\n",
      "    - bedtools\n",
      "    - bioawk\n",
      "    - samtools\n",
      "\n",
      "\n",
      "The following packages will be downloaded:\n",
      "\n",
      "    package                    |            build\n",
      "    ---------------------------|-----------------\n",
      "    bedtools-2.30.0            |       h7d7f7ad_2        17.9 MB  bioconda\n",
      "    bioawk-1.0                 |       h5bf99c6_6         188 KB  bioconda\n",
      "    c-ares-1.18.1              |       h7f98852_0         113 KB  conda-forge\n",
      "    ca-certificates-2023.5.7   |       hbcca054_0         145 KB  conda-forge\n",
      "    certifi-2023.5.7           |     pyhd8ed1ab_0         149 KB  conda-forge\n",
      "    conda-23.3.1               |  py310hff52083_0         941 KB  conda-forge\n",
      "    curl-7.87.0                |       h5eee18b_0          88 KB\n",
      "    keyutils-1.6.1             |       h166bdaf_0         115 KB  conda-forge\n",
      "    krb5-1.19.3                |       h3790be6_0         1.4 MB  conda-forge\n",
      "    libcurl-7.87.0             |       h91b91d3_0         373 KB\n",
      "    libedit-3.1.20191231       |       he28a2e2_2         121 KB  conda-forge\n",
      "    libev-4.33                 |       h516909a_1         104 KB  conda-forge\n",
      "    libnghttp2-1.46.0          |       hce63b2e_0         680 KB\n",
      "    libssh2-1.10.0             |       ha56f1ee_2         233 KB  conda-forge\n",
      "    python_abi-3.10            |          2_cp310           4 KB  conda-forge\n",
      "    samtools-1.6               |       hb116620_7         514 KB  bioconda\n",
      "    ------------------------------------------------------------\n",
      "                                           Total:        23.0 MB\n",
      "\n",
      "The following NEW packages will be INSTALLED:\n",
      "\n",
      "  bedtools           bioconda/linux-64::bedtools-2.30.0-h7d7f7ad_2 \n",
      "  bioawk             bioconda/linux-64::bioawk-1.0-h5bf99c6_6 \n",
      "  c-ares             conda-forge/linux-64::c-ares-1.18.1-h7f98852_0 \n",
      "  curl               pkgs/main/linux-64::curl-7.87.0-h5eee18b_0 \n",
      "  keyutils           conda-forge/linux-64::keyutils-1.6.1-h166bdaf_0 \n",
      "  krb5               conda-forge/linux-64::krb5-1.19.3-h3790be6_0 \n",
      "  libcurl            pkgs/main/linux-64::libcurl-7.87.0-h91b91d3_0 \n",
      "  libedit            conda-forge/linux-64::libedit-3.1.20191231-he28a2e2_2 \n",
      "  libev              conda-forge/linux-64::libev-4.33-h516909a_1 \n",
      "  libnghttp2         pkgs/main/linux-64::libnghttp2-1.46.0-hce63b2e_0 \n",
      "  libssh2            conda-forge/linux-64::libssh2-1.10.0-ha56f1ee_2 \n",
      "  python_abi         conda-forge/linux-64::python_abi-3.10-2_cp310 \n",
      "  samtools           bioconda/linux-64::samtools-1.6-hb116620_7 \n",
      "\n",
      "The following packages will be UPDATED:\n",
      "\n",
      "  ca-certificates    pkgs/main::ca-certificates-2023.01.10~ --> conda-forge::ca-certificates-2023.5.7-hbcca054_0 \n",
      "  certifi            pkgs/main/linux-64::certifi-2022.12.7~ --> conda-forge/noarch::certifi-2023.5.7-pyhd8ed1ab_0 \n",
      "\n",
      "The following packages will be SUPERSEDED by a higher-priority channel:\n",
      "\n",
      "  conda              pkgs/main::conda-23.3.1-py310h06a4308~ --> conda-forge::conda-23.3.1-py310hff52083_0 \n",
      "\n",
      "\n",
      "\n",
      "Downloading and Extracting Packages\n",
      "curl-7.87.0          | 88 KB     | :   0% 0/1 [00:00<?, ?it/s]\n",
      "krb5-1.19.3          | 1.4 MB    | :   0% 0/1 [00:00<?, ?it/s]\u001b[A\n",
      "\n",
      "libev-4.33           | 104 KB    | :   0% 0/1 [00:00<?, ?it/s]\u001b[A\u001b[A\n",
      "\n",
      "\n",
      "keyutils-1.6.1       | 115 KB    | :   0% 0/1 [00:00<?, ?it/s]\u001b[A\u001b[A\u001b[A\n",
      "\n",
      "\n",
      "\n",
      "libcurl-7.87.0       | 373 KB    | :   0% 0/1 [00:00<?, ?it/s]\u001b[A\u001b[A\u001b[A\u001b[A\n",
      "\n",
      "\n",
      "\n",
      "\n",
      "libnghttp2-1.46.0    | 680 KB    | :   0% 0/1 [00:00<?, ?it/s]\u001b[A\u001b[A\u001b[A\u001b[A\u001b[A\n",
      "\n",
      "\n",
      "\n",
      "\n",
      "\n",
      "certifi-2023.5.7     | 149 KB    | :   0% 0/1 [00:00<?, ?it/s]\u001b[A\u001b[A\u001b[A\u001b[A\u001b[A\u001b[A\n",
      "\n",
      "\n",
      "\n",
      "\n",
      "\n",
      "\n",
      "samtools-1.6         | 514 KB    | :   0% 0/1 [00:00<?, ?it/s]\u001b[A\u001b[A\u001b[A\u001b[A\u001b[A\u001b[A\u001b[A\n",
      "\n",
      "\n",
      "\n",
      "\n",
      "\n",
      "\n",
      "\n",
      "ca-certificates-2023 | 145 KB    | :   0% 0/1 [00:00<?, ?it/s]\u001b[A\u001b[A\u001b[A\u001b[A\u001b[A\u001b[A\u001b[A\u001b[A\n",
      "\n",
      "\n",
      "\n",
      "\n",
      "\n",
      "\n",
      "\n",
      "\n",
      "conda-23.3.1         | 941 KB    | :   0% 0/1 [00:00<?, ?it/s]\u001b[A\u001b[A\u001b[A\u001b[A\u001b[A\u001b[A\u001b[A\u001b[A\u001b[A\n",
      "\n",
      "\n",
      "\n",
      "\n",
      "\n",
      "\n",
      "\n",
      "\n",
      "\n",
      "bedtools-2.30.0      | 17.9 MB   | :   0% 0/1 [00:00<?, ?it/s]\u001b[A\u001b[A\u001b[A\u001b[A\u001b[A\u001b[A\u001b[A\u001b[A\u001b[A\u001b[A\n",
      "\n",
      "\n",
      "\n",
      "\n",
      "\n",
      "\n",
      "\n",
      "\n",
      "\n",
      "\n",
      "c-ares-1.18.1        | 113 KB    | :   0% 0/1 [00:00<?, ?it/s]\u001b[A\u001b[A\u001b[A\u001b[A\u001b[A\u001b[A\u001b[A\u001b[A\u001b[A\u001b[A\u001b[A\n",
      "\n",
      "\n",
      "\n",
      "\n",
      "\n",
      "\n",
      "\n",
      "\n",
      "\n",
      "\n",
      "\n",
      "libedit-3.1.20191231 | 121 KB    | :   0% 0/1 [00:00<?, ?it/s]\u001b[A\u001b[A\u001b[A\u001b[A\u001b[A\u001b[A\u001b[A\u001b[A\u001b[A\u001b[A\u001b[A\u001b[A\n",
      "\n",
      "\n",
      "\n",
      "\n",
      "\n",
      "\n",
      "\n",
      "\n",
      "\n",
      "\n",
      "\n",
      "\n",
      "python_abi-3.10      | 4 KB      | :   0% 0/1 [00:00<?, ?it/s]\u001b[A\u001b[A\u001b[A\u001b[A\u001b[A\u001b[A\u001b[A\u001b[A\u001b[A\u001b[A\u001b[A\u001b[A\u001b[A\n",
      "\n",
      "\n",
      "\n",
      "\n",
      "\n",
      "\n",
      "\n",
      "\n",
      "\n",
      "\n",
      "\n",
      "\n",
      "\n",
      "bioawk-1.0           | 188 KB    | :   0% 0/1 [00:00<?, ?it/s]\u001b[A\u001b[A\u001b[A\u001b[A\u001b[A\u001b[A\u001b[A\u001b[A\u001b[A\u001b[A\u001b[A\u001b[A\u001b[A\u001b[A\n",
      "\n",
      "\n",
      "\n",
      "\n",
      "\n",
      "\n",
      "\n",
      "\n",
      "\n",
      "\n",
      "\n",
      "\n",
      "\n",
      "\n",
      "curl-7.87.0          | 88 KB     | :  18% 0.1823686553873553/1 [00:00<00:00,  1.67it/s]\n",
      "\n",
      "\n",
      "\n",
      "libcurl-7.87.0       | 373 KB    | :   4% 0.042939961630796004/1 [00:00<00:02,  2.43s/it]\u001b[A\u001b[A\u001b[A\u001b[A\n",
      "krb5-1.19.3          | 1.4 MB    | :   1% 0.010781401555880483/1 [00:00<00:12, 12.79s/it]\u001b[A\n",
      "\n",
      "\n",
      "keyutils-1.6.1       | 115 KB    | :  14% 0.13904660063989951/1 [00:00<00:00,  1.07s/it]\u001b[A\u001b[A\u001b[A\n",
      "\n",
      "\n",
      "\n",
      "\n",
      "libnghttp2-1.46.0    | 680 KB    | :   2% 0.023546353290151607/1 [00:00<00:06,  6.30s/it]\u001b[A\u001b[A\u001b[A\u001b[A\u001b[A\n",
      "\n",
      "curl-7.87.0          | 88 KB     | : 100% 1.0/1 [00:00<00:00,  5.12it/s]\n",
      "\n",
      "\n",
      "\n",
      "\n",
      "\n",
      "\n",
      "\n",
      "ca-certificates-2023 | 145 KB    | :  11% 0.1104340792666487/1 [00:00<00:01,  2.00s/it]\u001b[A\u001b[A\u001b[A\u001b[A\u001b[A\u001b[A\u001b[A\u001b[A\n",
      "krb5-1.19.3          | 1.4 MB    | :  88% 0.8840749275821996/1 [00:00<00:00,  4.34it/s]  \u001b[A\n",
      "\n",
      "\n",
      "\n",
      "libcurl-7.87.0       | 373 KB    | : 100% 1.0/1 [00:00<00:00,  4.12it/s]                 \u001b[A\u001b[A\u001b[A\u001b[A\n",
      "\n",
      "\n",
      "\n",
      "libcurl-7.87.0       | 373 KB    | : 100% 1.0/1 [00:00<00:00,  4.12it/s]\u001b[A\u001b[A\u001b[A\u001b[A\n",
      "\n",
      "\n",
      "\n",
      "\n",
      "\n",
      "\n",
      "samtools-1.6         | 514 KB    | :   3% 0.031138284467537997/1 [00:00<00:08,  8.93s/it]\u001b[A\u001b[A\u001b[A\u001b[A\u001b[A\u001b[A\u001b[A\n",
      "\n",
      "\n",
      "\n",
      "\n",
      "\n",
      "\n",
      "\n",
      "\n",
      "\n",
      "\n",
      "c-ares-1.18.1        | 113 KB    | :  14% 0.1419868100631765/1 [00:00<00:01,  2.02s/it]\u001b[A\u001b[A\u001b[A\u001b[A\u001b[A\u001b[A\u001b[A\u001b[A\u001b[A\u001b[A\u001b[A\n",
      "\n",
      "\n",
      "\n",
      "\n",
      "\n",
      "certifi-2023.5.7     | 149 KB    | :  11% 0.10751855521941424/1 [00:00<00:02,  2.90s/it]\u001b[A\u001b[A\u001b[A\u001b[A\u001b[A\u001b[A\n",
      "\n",
      "\n",
      "\n",
      "\n",
      "\n",
      "\n",
      "\n",
      "\n",
      "\n",
      "\n",
      "\n",
      "libedit-3.1.20191231 | 121 KB    | :  13% 0.13225915820403947/1 [00:00<00:02,  2.46s/it]\u001b[A\u001b[A\u001b[A\u001b[A\u001b[A\u001b[A\u001b[A\u001b[A\u001b[A\u001b[A\u001b[A\u001b[A\n",
      "\n",
      "\n",
      "\n",
      "\n",
      "\n",
      "\n",
      "\n",
      "\n",
      "conda-23.3.1         | 941 KB    | :   2% 0.01699687325585979/1 [00:00<00:19, 19.39s/it]\u001b[A\u001b[A\u001b[A\u001b[A\u001b[A\u001b[A\u001b[A\u001b[A\u001b[A\n",
      "\n",
      "\n",
      "\n",
      "\n",
      "\n",
      "\n",
      "\n",
      "\n",
      "\n",
      "bedtools-2.30.0      | 17.9 MB   | :   0% 0.0008732746974999154/1 [00:00<06:24, 384.97s/it]\u001b[A\u001b[A\u001b[A\u001b[A\u001b[A\u001b[A\u001b[A\u001b[A\u001b[A\u001b[A\n",
      "\n",
      "\n",
      "\n",
      "\n",
      "\n",
      "\n",
      "\n",
      "\n",
      "\n",
      "\n",
      "\n",
      "\n",
      "python_abi-3.10      | 4 KB      | : 100% 1.0/1 [00:00<00:00,  2.92it/s]\u001b[A\u001b[A\u001b[A\u001b[A\u001b[A\u001b[A\u001b[A\u001b[A\u001b[A\u001b[A\u001b[A\u001b[A\u001b[A\n",
      "\n",
      "\n",
      "\n",
      "\n",
      "\n",
      "\n",
      "\n",
      "\n",
      "\n",
      "\n",
      "\n",
      "\n",
      "\n",
      "\n",
      "libssh2-1.10.0       | 233 KB    | :   7% 0.06874905587539233/1 [00:00<00:05,  5.55s/it]\u001b[A\u001b[A\u001b[A\u001b[A\u001b[A\u001b[A\u001b[A\u001b[A\u001b[A\u001b[A\u001b[A\u001b[A\u001b[A\u001b[A\u001b[A\n",
      "\n",
      "libev-4.33           | 104 KB    | : 100% 1.0/1 [00:00<00:00,  2.61it/s]               \u001b[A\u001b[A\n",
      "\n",
      "libev-4.33           | 104 KB    | : 100% 1.0/1 [00:00<00:00,  2.61it/s]\u001b[A\u001b[A\n",
      "\n",
      "\n",
      "\n",
      "\n",
      "\n",
      "\n",
      "\n",
      "\n",
      "\n",
      "\n",
      "\n",
      "\n",
      "\n",
      "bioawk-1.0           | 188 KB    | :   9% 0.08510859345374454/1 [00:00<00:04,  5.08s/it]\u001b[A\u001b[A\u001b[A\u001b[A\u001b[A\u001b[A\u001b[A\u001b[A\u001b[A\u001b[A\u001b[A\u001b[A\u001b[A\u001b[A\n",
      "\n",
      "\n",
      "\n",
      "\n",
      "\n",
      "\n",
      "\n",
      "\n",
      "\n",
      "bedtools-2.30.0      | 17.9 MB   | :  13% 0.13361102871748706/1 [00:00<00:02,  2.55s/it]   \u001b[A\u001b[A\u001b[A\u001b[A\u001b[A\u001b[A\u001b[A\u001b[A\u001b[A\u001b[A\n",
      "\n",
      "\n",
      "\n",
      "\n",
      "libnghttp2-1.46.0    | 680 KB    | : 100% 1.0/1 [00:00<00:00,  2.13it/s]                 \u001b[A\u001b[A\u001b[A\u001b[A\u001b[A\n",
      "\n",
      "\n",
      "\n",
      "\n",
      "libnghttp2-1.46.0    | 680 KB    | : 100% 1.0/1 [00:00<00:00,  2.13it/s]\u001b[A\u001b[A\u001b[A\u001b[A\u001b[A\n",
      "\n",
      "\n",
      "keyutils-1.6.1       | 115 KB    | : 100% 1.0/1 [00:00<00:00,  1.98it/s]                \u001b[A\u001b[A\u001b[A\n",
      "\n",
      "\n",
      "keyutils-1.6.1       | 115 KB    | : 100% 1.0/1 [00:00<00:00,  1.98it/s]\u001b[A\u001b[A\u001b[A\n",
      "\n",
      "\n",
      "\n",
      "\n",
      "\n",
      "\n",
      "\n",
      "\n",
      "\n",
      "bedtools-2.30.0      | 17.9 MB   | :  31% 0.3108857923099699/1 [00:00<00:00,  1.25s/it] \u001b[A\u001b[A\u001b[A\u001b[A\u001b[A\u001b[A\u001b[A\u001b[A\u001b[A\u001b[A\n",
      "\n",
      "\n",
      "\n",
      "\n",
      "\n",
      "\n",
      "\n",
      "ca-certificates-2023 | 145 KB    | : 100% 1.0/1 [00:00<00:00,  1.98it/s]               \u001b[A\u001b[A\u001b[A\u001b[A\u001b[A\u001b[A\u001b[A\u001b[A\n",
      "\n",
      "\n",
      "\n",
      "\n",
      "\n",
      "\n",
      "\n",
      "ca-certificates-2023 | 145 KB    | : 100% 1.0/1 [00:00<00:00,  1.98it/s]\u001b[A\u001b[A\u001b[A\u001b[A\u001b[A\u001b[A\u001b[A\u001b[A\n",
      "\n",
      "\n",
      "\n",
      "\n",
      "\n",
      "\n",
      "\n",
      "\n",
      "\n",
      "bedtools-2.30.0      | 17.9 MB   | :  48% 0.47942780892745357/1 [00:00<00:00,  1.05it/s]\u001b[A\u001b[A\u001b[A\u001b[A\u001b[A\u001b[A\u001b[A\u001b[A\u001b[A\u001b[A\n",
      "\n",
      "\n",
      "\n",
      "\n",
      "\n",
      "\n",
      "\n",
      "\n",
      "\n",
      "bedtools-2.30.0      | 17.9 MB   | :  66% 0.6601956713099361/1 [00:00<00:00,  1.27it/s] \u001b[A\u001b[A\u001b[A\u001b[A\u001b[A\u001b[A\u001b[A\u001b[A\u001b[A\u001b[A\n",
      "\n",
      "\n",
      "\n",
      "\n",
      "\n",
      "\n",
      "\n",
      "\n",
      "\n",
      "\n",
      "c-ares-1.18.1        | 113 KB    | : 100% 1.0/1 [00:00<00:00,  1.38it/s]               \u001b[A\u001b[A\u001b[A\u001b[A\u001b[A\u001b[A\u001b[A\u001b[A\u001b[A\u001b[A\u001b[A\n",
      "\n",
      "\n",
      "\n",
      "\n",
      "\n",
      "\n",
      "\n",
      "\n",
      "\n",
      "\n",
      "c-ares-1.18.1        | 113 KB    | : 100% 1.0/1 [00:00<00:00,  1.38it/s]\u001b[A\u001b[A\u001b[A\u001b[A\u001b[A\u001b[A\u001b[A\u001b[A\u001b[A\u001b[A\u001b[A\n",
      "\n",
      "\n",
      "\n",
      "\n",
      "\n",
      "\n",
      "\n",
      "\n",
      "\n",
      "bedtools-2.30.0      | 17.9 MB   | :  82% 0.8165118421624209/1 [00:00<00:00,  1.36it/s]\u001b[A\u001b[A\u001b[A\u001b[A\u001b[A\u001b[A\u001b[A\u001b[A\u001b[A\u001b[A\n",
      "\n",
      "\n",
      "\n",
      "\n",
      "\n",
      "\n",
      "samtools-1.6         | 514 KB    | : 100% 1.0/1 [00:01<00:00,  1.07it/s]                 \u001b[A\u001b[A\u001b[A\u001b[A\u001b[A\u001b[A\u001b[A\n",
      "\n",
      "\n",
      "\n",
      "\n",
      "\n",
      "\n",
      "samtools-1.6         | 514 KB    | : 100% 1.0/1 [00:01<00:00,  1.07it/s]\u001b[A\u001b[A\u001b[A\u001b[A\u001b[A\u001b[A\u001b[A\n",
      "\n",
      "\n",
      "\n",
      "\n",
      "\n",
      "\n",
      "\n",
      "\n",
      "\n",
      "\n",
      "\n",
      "libedit-3.1.20191231 | 121 KB    | : 100% 1.0/1 [00:01<00:00,  1.05s/it]                \u001b[A\u001b[A\u001b[A\u001b[A\u001b[A\u001b[A\u001b[A\u001b[A\u001b[A\u001b[A\u001b[A\u001b[A\n",
      "\n",
      "\n",
      "\n",
      "\n",
      "\n",
      "\n",
      "\n",
      "\n",
      "\n",
      "\n",
      "\n",
      "libedit-3.1.20191231 | 121 KB    | : 100% 1.0/1 [00:01<00:00,  1.05s/it]\u001b[A\u001b[A\u001b[A\u001b[A\u001b[A\u001b[A\u001b[A\u001b[A\u001b[A\u001b[A\u001b[A\u001b[A\n",
      "\n",
      "\n",
      "\n",
      "\n",
      "\n",
      "certifi-2023.5.7     | 149 KB    | : 100% 1.0/1 [00:01<00:00,  1.09s/it]                \u001b[A\u001b[A\u001b[A\u001b[A\u001b[A\u001b[A\n",
      "\n",
      "\n",
      "\n",
      "\n",
      "\n",
      "certifi-2023.5.7     | 149 KB    | : 100% 1.0/1 [00:01<00:00,  1.09s/it]\u001b[A\u001b[A\u001b[A\u001b[A\u001b[A\u001b[A\n",
      "\n",
      "\n",
      "\n",
      "\n",
      "\n",
      "\n",
      "\n",
      "\n",
      "\n",
      "\n",
      "\n",
      "\n",
      "python_abi-3.10      | 4 KB      | : 100% 1.0/1 [00:01<00:00,  2.92it/s]\u001b[A\u001b[A\u001b[A\u001b[A\u001b[A\u001b[A\u001b[A\u001b[A\u001b[A\u001b[A\u001b[A\u001b[A\u001b[A\n",
      "krb5-1.19.3          | 1.4 MB    | : 100% 1.0/1 [00:01<00:00,  4.34it/s]               \u001b[A\n",
      "\n",
      "\n",
      "\n",
      "\n",
      "\n",
      "\n",
      "\n",
      "\n",
      "conda-23.3.1         | 941 KB    | : 100% 1.0/1 [00:01<00:00,  1.61s/it]                \u001b[A\u001b[A\u001b[A\u001b[A\u001b[A\u001b[A\u001b[A\u001b[A\u001b[A\n",
      "\n",
      "\n",
      "\n",
      "\n",
      "\n",
      "\n",
      "\n",
      "\n",
      "conda-23.3.1         | 941 KB    | : 100% 1.0/1 [00:01<00:00,  1.61s/it]\u001b[A\u001b[A\u001b[A\u001b[A\u001b[A\u001b[A\u001b[A\u001b[A\u001b[A\n",
      "\n",
      "\n",
      "\n",
      "\n",
      "\n",
      "\n",
      "\n",
      "\n",
      "\n",
      "\n",
      "\n",
      "\n",
      "\n",
      "bioawk-1.0           | 188 KB    | : 100% 1.0/1 [00:01<00:00,  1.70s/it]                \u001b[A\u001b[A\u001b[A\u001b[A\u001b[A\u001b[A\u001b[A\u001b[A\u001b[A\u001b[A\u001b[A\u001b[A\u001b[A\u001b[A\n",
      "\n",
      "\n",
      "\n",
      "\n",
      "\n",
      "\n",
      "\n",
      "\n",
      "\n",
      "\n",
      "\n",
      "\n",
      "\n",
      "bioawk-1.0           | 188 KB    | : 100% 1.0/1 [00:01<00:00,  1.70s/it]\u001b[A\u001b[A\u001b[A\u001b[A\u001b[A\u001b[A\u001b[A\u001b[A\u001b[A\u001b[A\u001b[A\u001b[A\u001b[A\u001b[A\n",
      "\n",
      "\n",
      "\n",
      "\n",
      "\n",
      "\n",
      "\n",
      "\n",
      "\n",
      "\n",
      "\n",
      "\n",
      "\n",
      "\n",
      "libssh2-1.10.0       | 233 KB    | : 100% 1.0/1 [00:01<00:00,  1.83s/it]                \u001b[A\u001b[A\u001b[A\u001b[A\u001b[A\u001b[A\u001b[A\u001b[A\u001b[A\u001b[A\u001b[A\u001b[A\u001b[A\u001b[A\u001b[A\n",
      "\n",
      "\n",
      "\n",
      "\n",
      "\n",
      "\n",
      "\n",
      "\n",
      "\n",
      "\n",
      "\n",
      "\n",
      "\n",
      "\n",
      "libssh2-1.10.0       | 233 KB    | : 100% 1.0/1 [00:01<00:00,  1.83s/it]\u001b[A\u001b[A\u001b[A\u001b[A\u001b[A\u001b[A\u001b[A\u001b[A\u001b[A\u001b[A\u001b[A\u001b[A\u001b[A\u001b[A\u001b[A\n",
      "\n",
      "\n",
      "\n",
      "\n",
      "\n",
      "\n",
      "\n",
      "\n",
      "\n",
      "bedtools-2.30.0      | 17.9 MB   | : 100% 1.0/1 [00:06<00:00, 11.28s/it]               \u001b[A\u001b[A\u001b[A\u001b[A\u001b[A\u001b[A\u001b[A\u001b[A\u001b[A\u001b[A\n",
      "\n",
      "\n",
      "\n",
      "\n",
      "\n",
      "\n",
      "\n",
      "\n",
      "\n",
      "                                                                        \n",
      "                                                                        \u001b[A\n",
      "\n",
      "                                                                        \u001b[A\u001b[A\n",
      "\n",
      "\n",
      "                                                                        \u001b[A\u001b[A\u001b[A\n",
      "\n",
      "\n",
      "\n",
      "                                                                        \u001b[A\u001b[A\u001b[A\u001b[A\n",
      "\n",
      "\n",
      "\n",
      "\n",
      "                                                                        \u001b[A\u001b[A\u001b[A\u001b[A\u001b[A\n",
      "\n",
      "\n",
      "\n",
      "\n",
      "\n",
      "                                                                        \u001b[A\u001b[A\u001b[A\u001b[A\u001b[A\u001b[A\n",
      "\n",
      "\n",
      "\n",
      "\n",
      "\n",
      "\n",
      "                                                                        \u001b[A\u001b[A\u001b[A\u001b[A\u001b[A\u001b[A\u001b[A\n",
      "\n",
      "\n",
      "\n",
      "\n",
      "\n",
      "\n",
      "\n",
      "                                                                        \u001b[A\u001b[A\u001b[A\u001b[A\u001b[A\u001b[A\u001b[A\u001b[A\n",
      "\n",
      "\n",
      "\n",
      "\n",
      "\n",
      "\n",
      "\n",
      "\n",
      "                                                                        \u001b[A\u001b[A\u001b[A\u001b[A\u001b[A\u001b[A\u001b[A\u001b[A\u001b[A\n",
      "\n",
      "\n",
      "\n",
      "\n",
      "\n",
      "\n",
      "\n",
      "\n",
      "\n",
      "                                                                        \u001b[A\u001b[A\u001b[A\u001b[A\u001b[A\u001b[A\u001b[A\u001b[A\u001b[A\u001b[A\n",
      "\n",
      "\n",
      "\n",
      "\n",
      "\n",
      "\n",
      "\n",
      "\n",
      "\n",
      "\n",
      "                                                                        \u001b[A\u001b[A\u001b[A\u001b[A\u001b[A\u001b[A\u001b[A\u001b[A\u001b[A\u001b[A\u001b[A\n",
      "\n",
      "\n",
      "\n",
      "\n",
      "\n",
      "\n",
      "\n",
      "\n",
      "\n",
      "\n",
      "\n",
      "                                                                        \u001b[A\u001b[A\u001b[A\u001b[A\u001b[A\u001b[A\u001b[A\u001b[A\u001b[A\u001b[A\u001b[A\u001b[A\n",
      "\n",
      "\n",
      "\n",
      "\n",
      "\n",
      "\n",
      "\n",
      "\n",
      "\n",
      "\n",
      "\n",
      "\n",
      "                                                                        \u001b[A\u001b[A\u001b[A\u001b[A\u001b[A\u001b[A\u001b[A\u001b[A\u001b[A\u001b[A\u001b[A\u001b[A\u001b[A\n",
      "\n",
      "\n",
      "\n",
      "\n",
      "\n",
      "\n",
      "\n",
      "\n",
      "\n",
      "\n",
      "\n",
      "\n",
      "\n",
      "                                                                        \u001b[A\u001b[A\u001b[A\u001b[A\u001b[A\u001b[A\u001b[A\u001b[A\u001b[A\u001b[A\u001b[A\u001b[A\u001b[A\u001b[A\n",
      "\n",
      "\n",
      "\n",
      "\n",
      "\n",
      "\n",
      "\n",
      "\n",
      "\n",
      "\n",
      "\n",
      "\n",
      "\n",
      "\n",
      "                                                                        \u001b[A\u001b[A\u001b[A\u001b[A\u001b[A\u001b[A\u001b[A\u001b[A\u001b[A\u001b[A\u001b[A\u001b[A\u001b[A\u001b[A\u001b[A\n",
      "Preparing transaction: | \b\bdone\n",
      "Verifying transaction: - \b\b\\ \b\b| \b\b/ \b\b- \b\b\\ \b\b| \b\b/ \b\b- \b\b\\ \b\b| \b\bdone\n",
      "Executing transaction: - \b\b\\ \b\b| \b\b/ \b\b- \b\b\\ \b\b| \b\bdone\n"
     ]
    }
   ],
   "source": [
    "# !conda install -y bedtools bioawk samtools"
   ]
  },
  {
   "cell_type": "markdown",
   "metadata": {
    "id": "Oe_54MZrEi4y"
   },
   "source": [
    "## Mission 2\n",
    "\n",
    "이번 미션에서는 start codon 주변에서 ribosome-protected fragment의 분포를 한 번 살펴보겠습니다. 보통은 RPF의 5'-end 분포가 start codon 앞 15nt 정도에서부터 본격적으로 많이 나오고, 거기서부터 CDS를 걸쳐서 3nt 주기로 올록볼록한 패턴이 나타납니다.\n",
    "\n",
    "이 그림을 제대로 그리려면 genome coordinate를 start codon을 기준으로 변환해서 작업해야 하지만, 이번 미션에서는 난이도를 적절히 내리기 위해서 start codon이 포함된 exon에 존재하는 5' end만 추려서 작업하도록 합시다. (여유가 좀 있어서 난이도를 적당히 올리고 싶은 분들은 negative strand를 포함할 수도 있고, start codon과 다른 exon에 있는 경우를 포함할 수도 있습니다. 또한 APPRIS 등을 기반으로 해서 transcript 중에 가장 )"
   ]
  },
  {
   "cell_type": "code",
   "execution_count": 7,
   "metadata": {
    "colab": {
     "base_uri": "https://localhost:8080/"
    },
    "executionInfo": {
     "elapsed": 651,
     "status": "ok",
     "timestamp": 1683621221556,
     "user": {
      "displayName": "­이헌이 / 학생 / 협동과정 생물정보학전공",
      "userId": "12109800671008169597"
     },
     "user_tz": -540
    },
    "id": "IANz6DmLUkA6",
    "outputId": "bba65503-85aa-4312-b927-ec182c7e17b9"
   },
   "outputs": [
    {
     "name": "stdout",
     "output_type": "stream",
     "text": [
      "/home/hy/Documents/snu/class/sjs1/hw/binfo1-datapack1\n"
     ]
    }
   ],
   "source": [
    "%cd ./binfo1-datapack1/"
   ]
  },
  {
   "cell_type": "markdown",
   "metadata": {
    "id": "68uh7WVkUjhr"
   },
   "source": [
    "우선 annotation에서 start codon이 포함된 exon만 추립니다. Gene 한 개에 isoform이 여러 개 있는 경우 모두 쓰면 read가 너무 부풀려질 수 있기 때문에 우선 transcript support level이 1인 것만 추려서 사용합니다. 여전히 TSL 1만 쓰더라도 부풀려질 가능성은 있기 때문에 제대로 하자면 APPRIS나 RNA-seq 데이터 기준으로 하나만 선정하는 것이 좋습니다만, 일단 여기서는 간단히..\n",
    "\n",
    "그리고, - strand가 들어가면 좀 계산이 복잡해지니까 또 간단하게 하기 위해서 + strand만 고릅니다. 이번엔 일단 무조건 간단하게 해 봅시다~"
   ]
  },
  {
   "cell_type": "code",
   "execution_count": 8,
   "metadata": {
    "colab": {
     "base_uri": "https://localhost:8080/"
    },
    "executionInfo": {
     "elapsed": 14506,
     "status": "ok",
     "timestamp": 1683621258894,
     "user": {
      "displayName": "­이헌이 / 학생 / 협동과정 생물정보학전공",
      "userId": "12109800671008169597"
     },
     "user_tz": -540
    },
    "id": "vvFgM8hJUzDx",
    "outputId": "402ed388-28a3-4f0e-bcd9-d1b23a4fddf1"
   },
   "outputs": [
    {
     "name": "stdout",
     "output_type": "stream",
     "text": [
      "chr1\tHAVANA\tstart_codon\t4878137\t4878139\t.\t+\t0\tENSMUST00000134384.8\r\n",
      "chr1\tHAVANA\tstart_codon\t4878137\t4878139\t.\t+\t0\tENSMUST00000027036.11\r\n",
      "chr1\tHAVANA\tstart_codon\t4878137\t4878139\t.\t+\t0\tENSMUST00000150971.8\r\n",
      "chr1\tHAVANA\tstart_codon\t4928137\t4928139\t.\t+\t0\tENSMUST00000081551.14\r\n",
      "chr1\tHAVANA\tstart_codon\t5154674\t5154676\t.\t+\t0\tENSMUST00000044369.13\r\n",
      "chr1\tHAVANA\tstart_codon\t5659272\t5659274\t.\t+\t0\tENSMUST00000160777.8\r\n",
      "chr1\tHAVANA\tstart_codon\t5659272\t5659274\t.\t+\t0\tENSMUST00000027038.11\r\n",
      "chr1\tHAVANA\tstart_codon\t6300227\t6300229\t.\t+\t0\tENSMUST00000027040.13\r\n",
      "chr1\tHAVANA\tstart_codon\t6429555\t6429557\t.\t+\t0\tENSMUST00000133144.4\r\n",
      "chr1\tHAVANA\tstart_codon\t6839122\t6839124\t.\t+\t0\tENSMUST00000140079.8\r\n"
     ]
    }
   ],
   "source": [
    "!grep '\tstart_codon\t.*\t+\t.*transcript_support_level \"1\"' gencode.gtf | \\\n",
    " sed -e 's/\t[^\t]*transcript_id \"\\([^\"]*\\)\".*$/\t\\1/g' > gencode-start.gtf\n",
    "!head gencode-start.gtf"
   ]
  },
  {
   "cell_type": "markdown",
   "metadata": {
    "id": "iWvIeTYOWsR6"
   },
   "source": [
    "start codon가 들어가 있는 exon들을 고르기 위해서 미리 + strand에 있는 exon를 추립니다.. start codon 쪽에서 TSL 기준으로 골랐기 때문에 여기서는 고르지 않아도 됩니다. 물론 좀 느려지기는 하지만..."
   ]
  },
  {
   "cell_type": "code",
   "execution_count": 9,
   "metadata": {
    "colab": {
     "base_uri": "https://localhost:8080/"
    },
    "executionInfo": {
     "elapsed": 60532,
     "status": "ok",
     "timestamp": 1683621402718,
     "user": {
      "displayName": "­이헌이 / 학생 / 협동과정 생물정보학전공",
      "userId": "12109800671008169597"
     },
     "user_tz": -540
    },
    "id": "yCqK2wyYWitn",
    "outputId": "aedae356-bca9-4252-923d-29997cf5438e"
   },
   "outputs": [
    {
     "name": "stdout",
     "output_type": "stream",
     "text": [
      "chr1\tHAVANA\texon\t3143476\t3144545\t.\t+\t.\tENSMUST00000193812.2\r\n",
      "chr1\tENSEMBL\texon\t3172239\t3172348\t.\t+\t.\tENSMUST00000082908.3\r\n",
      "chr1\tHAVANA\texon\t3322980\t3323459\t.\t+\t.\tENSMUST00000192857.2\r\n",
      "chr1\tHAVANA\texon\t3536810\t3536910\t.\t+\t.\tENSMUST00000161581.2\r\n",
      "chr1\tHAVANA\texon\t3583628\t3583776\t.\t+\t.\tENSMUST00000161581.2\r\n",
      "chr1\tHAVANA\texon\t3602018\t3602943\t.\t+\t.\tENSMUST00000192183.2\r\n",
      "chr1\tHAVANA\texon\t3750378\t3752011\t.\t+\t.\tENSMUST00000193244.2\r\n",
      "chr1\tHAVANA\texon\t3822233\t3824583\t.\t+\t.\tENSMUST00000194454.2\r\n",
      "chr1\tHAVANA\texon\t4566774\t4569601\t.\t+\t.\tENSMUST00000193450.2\r\n",
      "chr1\tHAVANA\texon\t4567697\t4567877\t.\t+\t.\tENSMUST00000194935.2\r\n"
     ]
    }
   ],
   "source": [
    "# 아래 공백 중 일부는 \"탭(Tab)\" 문자입니다. 입력하기 힘들 때는 텍스트 편집기에서 입력해서 복사&붙여넣기 하면 됩니다.\n",
    "!grep '\texon\t.*\t+\t' gencode.gtf | \\\n",
    " sed -e 's/\t[^\t]*transcript_id \"\\([^\"]*\\)\".*$/\t\\1/g' > gencode-plusexon.gtf\n",
    "!head gencode-plusexon.gtf"
   ]
  },
  {
   "cell_type": "markdown",
   "metadata": {
    "id": "suULe5k6Yelf"
   },
   "source": [
    "그 다음엔 exon 리스트와 start codon 리스트를 겹치고, transcript가 같은 것만 살려둡니다. 기왕 좀 다루기 쉽도록 출력은 bed로 하면서 좌표계를 바꿉니다. 결과는 bedtools에서 빠르게 다룰 수 있게 sort해 둡니다."
   ]
  },
  {
   "cell_type": "code",
   "execution_count": 10,
   "metadata": {
    "colab": {
     "base_uri": "https://localhost:8080/"
    },
    "executionInfo": {
     "elapsed": 2291,
     "status": "ok",
     "timestamp": 1683621655402,
     "user": {
      "displayName": "­이헌이 / 학생 / 협동과정 생물정보학전공",
      "userId": "12109800671008169597"
     },
     "user_tz": -540
    },
    "id": "Zsv2_w5OXU9c",
    "outputId": "a2dcfb47-f223-406b-98cc-6a0d4161ed14"
   },
   "outputs": [
    {
     "name": "stdout",
     "output_type": "stream",
     "text": [
      "chr1\t4878010\t4878205\tENSMUST00000134384.8\t4878136\t+\r\n",
      "chr1\t4878045\t4878205\tENSMUST00000027036.11\t4878136\t+\r\n",
      "chr1\t4878052\t4878205\tENSMUST00000150971.8\t4878136\t+\r\n",
      "chr1\t4928036\t4928199\tENSMUST00000081551.14\t4928136\t+\r\n",
      "chr1\t5154639\t5154786\tENSMUST00000044369.13\t5154673\t+\r\n",
      "chr1\t5659227\t5659528\tENSMUST00000027038.11\t5659271\t+\r\n",
      "chr1\t5659257\t5659528\tENSMUST00000160777.8\t5659271\t+\r\n",
      "chr1\t6300182\t6300297\tENSMUST00000027040.13\t6300226\t+\r\n",
      "chr1\t6429441\t6429738\tENSMUST00000133144.4\t6429554\t+\r\n",
      "chr1\t6839121\t6839176\tENSMUST00000043578.13\t6839121\t+\r\n",
      "chrY\t80939672\t80939804\tENSMUST00000185340.2\t80939686\t+\r\n",
      "chrY\t81470683\t81470815\tENSMUST00000187135.2\t81470697\t+\r\n",
      "chrY\t82237903\t82238035\tENSMUST00000185636.2\t82237917\t+\r\n",
      "chrY\t83043623\t83043755\tENSMUST00000187165.2\t83043637\t+\r\n",
      "chrY\t84109956\t84110088\tENSMUST00000185776.7\t84109970\t+\r\n",
      "chrY\t84759361\t84759493\tENSMUST00000186110.2\t84759375\t+\r\n",
      "chrY\t86074448\t86074580\tENSMUST00000188754.2\t86074462\t+\r\n",
      "chrY\t87129500\t87129632\tENSMUST00000189543.7\t87129514\t+\r\n",
      "chrY\t87563647\t87563779\tENSMUST00000186493.2\t87563661\t+\r\n",
      "chrY\t88065992\t88066124\tENSMUST00000187146.2\t88066006\t+\r\n"
     ]
    }
   ],
   "source": [
    "# 아래 공백 중 일부는 \"탭(Tab)\" 문자입니다. 입력하기 힘들 때는 텍스트 편집기에서 입력해서 복사&붙여넣기 하면 됩니다.\n",
    "!bedtools intersect -a gencode-start.gtf -b gencode-plusexon.gtf -wa -wb | \\\n",
    " awk -F'\t' -v OFS='\t' '$9 == $18 { print $10, $13-1, $14, $18, $4-1, $16; }' | \\\n",
    " sort -k1,1 -k2,3n -k4,4 > gencode-exons-containing-startcodon.bed\n",
    "!head gencode-exons-containing-startcodon.bed; tail gencode-exons-containing-startcodon.bed"
   ]
  },
  {
   "cell_type": "markdown",
   "metadata": {
    "id": "KvPNCpbtaYnC"
   },
   "source": [
    "컬럼 4번에 transcript id, 5번에 start codon 위치를 넣었는데, start codon이 같은 것들이 여러개 눈에 띕니다. 아주 찝찝하지만, 우선 이번은 간단하게 할 것이기 때문에 눈을 질끈 감고 넘어가 봅시다.\n",
    "\n",
    "이제 alignment를 준비합니다. + strand alignment에서 read length가 짧은 것도 미리 필터링 합니다. RPF는 보통 25nt 이상이기 때문에 그 이하는 거의 확실히 rRNA, tRNA 등에서 오염된 것들입니다. SAM 파일 전체를 필터링해서 다시 인코딩하기 때문에 시간이 좀 걸립니다.\n",
    "\n",
    "오래걸리는 작업을 돌릴 떄에는 CPU 사용량, 디스크 사용량을 계속 관찰하는 것이 좋습니다. 직접 접속할 수 있는 컴퓨터에서는 `htop` 등의 명령을 쓰면 되고, Colab에서는 오른쪽 위의 메뉴에서 Resources를 띄우면 되는데, 여기서는 CPU 사용량은 보기 힘듭니다."
   ]
  },
  {
   "cell_type": "code",
   "execution_count": 11,
   "metadata": {
    "executionInfo": {
     "elapsed": 291020,
     "status": "ok",
     "timestamp": 1683622423806,
     "user": {
      "displayName": "­이헌이 / 학생 / 협동과정 생물정보학전공",
      "userId": "12109800671008169597"
     },
     "user_tz": -540
    },
    "id": "ZZaOeHo1alCB"
   },
   "outputs": [],
   "source": [
    "!(samtools view -H RPF-siLuc.bam; \\\n",
    "  samtools view -F20 RPF-siLuc.bam | \\\n",
    "  bioawk -c sam '{ if (length($seq) >= 25) print $0; }') | \\\n",
    " samtools view -b -o filtered-RPF-siLuc.bam"
   ]
  },
  {
   "cell_type": "markdown",
   "metadata": {
    "id": "U1JDNb8ndTdk"
   },
   "source": [
    "큰 일을 했으니 용량을 한 번 봅니다."
   ]
  },
  {
   "cell_type": "code",
   "execution_count": 12,
   "metadata": {
    "colab": {
     "base_uri": "https://localhost:8080/"
    },
    "executionInfo": {
     "elapsed": 1473,
     "status": "ok",
     "timestamp": 1683622992465,
     "user": {
      "displayName": "­이헌이 / 학생 / 협동과정 생물정보학전공",
      "userId": "12109800671008169597"
     },
     "user_tz": -540
    },
    "id": "5OrnDxegFAip",
    "outputId": "4c1ee019-67c9-4f02-d240-95a395f5a0b6"
   },
   "outputs": [
    {
     "name": "stdout",
     "output_type": "stream",
     "text": [
      "-rw-rw-r-- 1 hy hy  572853320  5월 10 10:32 filtered-RPF-siLuc.bam\r\n",
      "-rw-rw-r-- 1 hy hy 1055123479  4월 29 14:29 RPF-siLuc.bam\r\n"
     ]
    }
   ],
   "source": [
    "!ls -al *RPF-siLuc.bam"
   ]
  },
  {
   "cell_type": "markdown",
   "metadata": {
    "id": "pr9zpKFmdi2e"
   },
   "source": [
    "자 이제 read의 5' end 위치를 셉니다. bedtools의 `genomecov`를 쓰면 아주 편리합니다."
   ]
  },
  {
   "cell_type": "code",
   "execution_count": 13,
   "metadata": {
    "colab": {
     "base_uri": "https://localhost:8080/"
    },
    "executionInfo": {
     "elapsed": 250120,
     "status": "ok",
     "timestamp": 1683623250327,
     "user": {
      "displayName": "­이헌이 / 학생 / 협동과정 생물정보학전공",
      "userId": "12109800671008169597"
     },
     "user_tz": -540
    },
    "id": "IZjHau7zftoU",
    "outputId": "44e5f5bd-4a03-458b-94f3-4c77c7308b99"
   },
   "outputs": [
    {
     "name": "stdout",
     "output_type": "stream",
     "text": [
      "chr1\t3176534\t3176535\t1\r\n",
      "chr1\t3196256\t3196257\t1\r\n",
      "chr1\t3221526\t3221527\t1\r\n",
      "chr1\t3221542\t3221543\t2\r\n",
      "chr1\t3221545\t3221546\t3\r\n",
      "chr1\t3221546\t3221547\t2\r\n",
      "chr1\t3221548\t3221550\t1\r\n",
      "chr1\t3221571\t3221572\t1\r\n",
      "chr1\t3221897\t3221898\t1\r\n",
      "chr1\t3221994\t3221995\t1\r\n"
     ]
    }
   ],
   "source": [
    "!bedtools genomecov -ibam filtered-RPF-siLuc.bam -bg -5 > fivepcounts-RPF-siLuc.bed\n",
    "!head fivepcounts-RPF-siLuc.bed"
   ]
  },
  {
   "cell_type": "markdown",
   "metadata": {
    "id": "y_AHnHnZmYJu"
   },
   "source": [
    "그렇게 match 된 것들 중에 앞에서 찾은 start codon을 포함한 exon과 겹치는 것만 골라냅니다."
   ]
  },
  {
   "cell_type": "code",
   "execution_count": 14,
   "metadata": {
    "colab": {
     "base_uri": "https://localhost:8080/"
    },
    "executionInfo": {
     "elapsed": 2414,
     "status": "ok",
     "timestamp": 1683623259440,
     "user": {
      "displayName": "­이헌이 / 학생 / 협동과정 생물정보학전공",
      "userId": "12109800671008169597"
     },
     "user_tz": -540
    },
    "id": "k1cOiX2Hftlx",
    "outputId": "439a45aa-9d48-4afc-87dc-a56dd600bf8d"
   },
   "outputs": [
    {
     "name": "stdout",
     "output_type": "stream",
     "text": [
      "chr1\t4878048\t4878049\t1\tchr1\t4878010\t4878205\tENSMUST00000134384.8\t4878136\t+\r\n",
      "chr1\t4878048\t4878049\t1\tchr1\t4878045\t4878205\tENSMUST00000027036.11\t4878136\t+\r\n",
      "chr1\t4878077\t4878078\t1\tchr1\t4878010\t4878205\tENSMUST00000134384.8\t4878136\t+\r\n",
      "chr1\t4878077\t4878078\t1\tchr1\t4878045\t4878205\tENSMUST00000027036.11\t4878136\t+\r\n",
      "chr1\t4878077\t4878078\t1\tchr1\t4878052\t4878205\tENSMUST00000150971.8\t4878136\t+\r\n",
      "chr1\t4878101\t4878102\t4\tchr1\t4878010\t4878205\tENSMUST00000134384.8\t4878136\t+\r\n",
      "chr1\t4878101\t4878102\t4\tchr1\t4878045\t4878205\tENSMUST00000027036.11\t4878136\t+\r\n",
      "chr1\t4878101\t4878102\t4\tchr1\t4878052\t4878205\tENSMUST00000150971.8\t4878136\t+\r\n",
      "chr1\t4878103\t4878104\t1\tchr1\t4878010\t4878205\tENSMUST00000134384.8\t4878136\t+\r\n",
      "chr1\t4878103\t4878104\t1\tchr1\t4878045\t4878205\tENSMUST00000027036.11\t4878136\t+\r\n"
     ]
    }
   ],
   "source": [
    "!bedtools intersect -a fivepcounts-RPF-siLuc.bed -b gencode-exons-containing-startcodon.bed \\\n",
    " -wa -wb -nonamecheck > fivepcounts-filtered-RPF-siLuc.txt\n",
    "!head fivepcounts-filtered-RPF-siLuc.txt"
   ]
  },
  {
   "cell_type": "markdown",
   "metadata": {
    "id": "0OcjYZ9bnL_6"
   },
   "source": [
    "모든 준비가 끝났습니다. 이제 Figure S5A 도전해 보세요!\n",
    "\n",
    "* stop codon은 빼고 start codon 만입니다.\n",
    "* 논문에서는 처리가 어려운 부분까지 모두 포함됐고, read를 중첩해서 세지 않았기 때문에, 여기서 세는 것과는 수치는 다를 수 있습니다.\n",
    "* `pandas`로 한꺼번에 데이터를 모두 불러들이면 메모리가 부족할 수도 있습니다. 그런 경우에는 chunk를 쓰거나, 줄 단위로 처리해 보세요."
   ]
  },
  {
   "cell_type": "code",
   "execution_count": 52,
   "metadata": {},
   "outputs": [],
   "source": [
    "import pandas as pd\n",
    "import numpy as np\n",
    "from matplotlib import pyplot as plt"
   ]
  },
  {
   "cell_type": "code",
   "execution_count": 139,
   "metadata": {
    "id": "aPPW73t4X3pp"
   },
   "outputs": [],
   "source": [
    "# readline_test.py\n",
    "position_set = []\n",
    "count_set = []\n",
    "f = open(\"./fivepcounts-filtered-RPF-siLuc.txt\", 'r')\n",
    "while True:\n",
    "    line = f.readline()\n",
    "    if not line: break\n",
    "    line_set = line.split(\"\\t\")\n",
    "    position = line_set[1]\n",
    "    count = int(line_set[3])\n",
    "    start = line_set[8]\n",
    "    position = int(position) - int(start)\n",
    "    position_set.append(position)\n",
    "    count_set.append(count)\n",
    "f.close()"
   ]
  },
  {
   "cell_type": "code",
   "execution_count": 140,
   "metadata": {},
   "outputs": [
    {
     "data": {
      "text/html": [
       "<div>\n",
       "<style scoped>\n",
       "    .dataframe tbody tr th:only-of-type {\n",
       "        vertical-align: middle;\n",
       "    }\n",
       "\n",
       "    .dataframe tbody tr th {\n",
       "        vertical-align: top;\n",
       "    }\n",
       "\n",
       "    .dataframe thead th {\n",
       "        text-align: right;\n",
       "    }\n",
       "</style>\n",
       "<table border=\"1\" class=\"dataframe\">\n",
       "  <thead>\n",
       "    <tr style=\"text-align: right;\">\n",
       "      <th></th>\n",
       "      <th>position</th>\n",
       "      <th>count</th>\n",
       "    </tr>\n",
       "  </thead>\n",
       "  <tbody>\n",
       "    <tr>\n",
       "      <th>0</th>\n",
       "      <td>-88</td>\n",
       "      <td>1</td>\n",
       "    </tr>\n",
       "    <tr>\n",
       "      <th>1</th>\n",
       "      <td>-88</td>\n",
       "      <td>1</td>\n",
       "    </tr>\n",
       "    <tr>\n",
       "      <th>2</th>\n",
       "      <td>-59</td>\n",
       "      <td>1</td>\n",
       "    </tr>\n",
       "    <tr>\n",
       "      <th>3</th>\n",
       "      <td>-59</td>\n",
       "      <td>1</td>\n",
       "    </tr>\n",
       "    <tr>\n",
       "      <th>4</th>\n",
       "      <td>-59</td>\n",
       "      <td>1</td>\n",
       "    </tr>\n",
       "  </tbody>\n",
       "</table>\n",
       "</div>"
      ],
      "text/plain": [
       "   position  count\n",
       "0       -88      1\n",
       "1       -88      1\n",
       "2       -59      1\n",
       "3       -59      1\n",
       "4       -59      1"
      ]
     },
     "execution_count": 140,
     "metadata": {},
     "output_type": "execute_result"
    }
   ],
   "source": [
    "fp_df = {'position':position_set,'count':count_set}\n",
    "fp_df = pd.DataFrame(fp_df)\n",
    "fp_df.head()\n",
    "# fp_df.to_csv(\"fp_df.csv\")"
   ]
  },
  {
   "cell_type": "code",
   "execution_count": 146,
   "metadata": {},
   "outputs": [],
   "source": [
    "fp_df = fp_df[abs(fp_df['position']) <= 60]"
   ]
  },
  {
   "cell_type": "code",
   "execution_count": 147,
   "metadata": {},
   "outputs": [
    {
     "data": {
      "text/html": [
       "<div>\n",
       "<style scoped>\n",
       "    .dataframe tbody tr th:only-of-type {\n",
       "        vertical-align: middle;\n",
       "    }\n",
       "\n",
       "    .dataframe tbody tr th {\n",
       "        vertical-align: top;\n",
       "    }\n",
       "\n",
       "    .dataframe thead th {\n",
       "        text-align: right;\n",
       "    }\n",
       "</style>\n",
       "<table border=\"1\" class=\"dataframe\">\n",
       "  <thead>\n",
       "    <tr style=\"text-align: right;\">\n",
       "      <th></th>\n",
       "      <th>count</th>\n",
       "    </tr>\n",
       "    <tr>\n",
       "      <th>position</th>\n",
       "      <th></th>\n",
       "    </tr>\n",
       "  </thead>\n",
       "  <tbody>\n",
       "    <tr>\n",
       "      <th>-60</th>\n",
       "      <td>1808</td>\n",
       "    </tr>\n",
       "    <tr>\n",
       "      <th>-59</th>\n",
       "      <td>2665</td>\n",
       "    </tr>\n",
       "    <tr>\n",
       "      <th>-58</th>\n",
       "      <td>2044</td>\n",
       "    </tr>\n",
       "    <tr>\n",
       "      <th>-57</th>\n",
       "      <td>1901</td>\n",
       "    </tr>\n",
       "    <tr>\n",
       "      <th>-56</th>\n",
       "      <td>2666</td>\n",
       "    </tr>\n",
       "  </tbody>\n",
       "</table>\n",
       "</div>"
      ],
      "text/plain": [
       "          count\n",
       "position       \n",
       "-60        1808\n",
       "-59        2665\n",
       "-58        2044\n",
       "-57        1901\n",
       "-56        2666"
      ]
     },
     "execution_count": 147,
     "metadata": {},
     "output_type": "execute_result"
    }
   ],
   "source": [
    "position_count = fp_df.groupby('position')['count'].sum()\n",
    "position_count.sort_values()\n",
    "position_count = pd.DataFrame(position_count)\n",
    "position_count.head()"
   ]
  },
  {
   "cell_type": "code",
   "execution_count": 148,
   "metadata": {},
   "outputs": [
    {
     "data": {
      "text/html": [
       "<div>\n",
       "<style scoped>\n",
       "    .dataframe tbody tr th:only-of-type {\n",
       "        vertical-align: middle;\n",
       "    }\n",
       "\n",
       "    .dataframe tbody tr th {\n",
       "        vertical-align: top;\n",
       "    }\n",
       "\n",
       "    .dataframe thead th {\n",
       "        text-align: right;\n",
       "    }\n",
       "</style>\n",
       "<table border=\"1\" class=\"dataframe\">\n",
       "  <thead>\n",
       "    <tr style=\"text-align: right;\">\n",
       "      <th></th>\n",
       "      <th>position</th>\n",
       "      <th>count</th>\n",
       "    </tr>\n",
       "  </thead>\n",
       "  <tbody>\n",
       "    <tr>\n",
       "      <th>0</th>\n",
       "      <td>-60</td>\n",
       "      <td>1808</td>\n",
       "    </tr>\n",
       "    <tr>\n",
       "      <th>1</th>\n",
       "      <td>-59</td>\n",
       "      <td>2665</td>\n",
       "    </tr>\n",
       "    <tr>\n",
       "      <th>2</th>\n",
       "      <td>-58</td>\n",
       "      <td>2044</td>\n",
       "    </tr>\n",
       "    <tr>\n",
       "      <th>3</th>\n",
       "      <td>-57</td>\n",
       "      <td>1901</td>\n",
       "    </tr>\n",
       "    <tr>\n",
       "      <th>4</th>\n",
       "      <td>-56</td>\n",
       "      <td>2666</td>\n",
       "    </tr>\n",
       "  </tbody>\n",
       "</table>\n",
       "</div>"
      ],
      "text/plain": [
       "   position  count\n",
       "0       -60   1808\n",
       "1       -59   2665\n",
       "2       -58   2044\n",
       "3       -57   1901\n",
       "4       -56   2666"
      ]
     },
     "execution_count": 148,
     "metadata": {},
     "output_type": "execute_result"
    }
   ],
   "source": [
    "position_count = position_count.reset_index()\n",
    "position_count.head()"
   ]
  },
  {
   "cell_type": "code",
   "execution_count": 149,
   "metadata": {},
   "outputs": [],
   "source": [
    "position = position_count['position']\n",
    "count =  position_count['count']/1000"
   ]
  },
  {
   "cell_type": "code",
   "execution_count": 159,
   "metadata": {},
   "outputs": [
    {
     "data": {
      "text/plain": [
       "Text(0.5, 1.0, 'siLuc')"
      ]
     },
     "execution_count": 159,
     "metadata": {},
     "output_type": "execute_result"
    },
    {
     "data": {
      "image/png": "[encoded data removed]",
      "text/plain": [
       "<Figure size 640x480 with 1 Axes>"
      ]
     },
     "metadata": {},
     "output_type": "display_data"
    }
   ],
   "source": [
    "plt.bar(position,count, color=\"black\")\n",
    "plt.ylim(0,120)\n",
    "plt.xlim(-50,50)\n",
    "plt.axvline(0,c=\"red\")\n",
    "plt.ylabel(\"Raw read count\\n(x1000)\")\n",
    "plt.xlabel(\"Relative position to start codon of 5'-end of reads\")\n",
    "plt.title(\"siLuc\")"
   ]
  }
 ],
 "metadata": {
  "colab": {
   "provenance": []
  },
  "kernelspec": {
   "display_name": "Python 3 (ipykernel)",
   "language": "python",
   "name": "python3"
  },
  "language_info": {
   "codemirror_mode": {
    "name": "ipython",
    "version": 3
   },
   "file_extension": ".py",
   "mimetype": "text/x-python",
   "name": "python",
   "nbconvert_exporter": "python",
   "pygments_lexer": "ipython3",
   "version": "3.11.3"
  }
 },
 "nbformat": 4,
 "nbformat_minor": 1
}
